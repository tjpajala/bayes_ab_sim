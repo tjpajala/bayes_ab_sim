{
 "cells": [
  {
   "cell_type": "markdown",
   "metadata": {},
   "source": [
    "# Bayesian A/B simulation"
   ]
  },
  {
   "cell_type": "markdown",
   "metadata": {},
   "source": [
    "Suppose you have N consumers in a test panel choosing between options A and B. You want to infer from this data which option is really the most popular option.\n",
    "\n",
    "This notebook explores the following question: can we save on A/B testing by using bayesian sequential testing - and how much?\n",
    "\n",
    "The setup is very simple:\n",
    "* generate some fake A/B choice data\n",
    "* form a Beta prior that describes your belief about the probability of A being the more chosen option \n",
    "* with each step of M data points, update your posterior to reflect the data\n",
    "* define your desired certainty level, and calculate the highest probability density interval (HPDI) of the posterior\n",
    "* if HPDI is outside the region of practical equivalence (ROPE), discontinue testing and choose the more likely alternative\n",
    "* if HPDI is completely inside ROPE, discontinue test and infer that A and B are equally good"
   ]
  },
  {
   "cell_type": "code",
   "execution_count": 251,
   "metadata": {
    "pycharm": {
     "is_executing": true
    }
   },
   "outputs": [],
   "source": [
    "import numpy as np\n",
    "import numpyro\n",
    "import numpyro.distributions as dist\n",
    "import jax.numpy as jnp\n",
    "from jax import random\n",
    "import matplotlib.pyplot as plt\n",
    "import numpyro.optim as optim\n",
    "from numpyro.infer import SVI, Trace_ELBO\n",
    "from numpyro.infer.autoguide import AutoLaplaceApproximation\n",
    "import arviz as az\n",
    "from typing import List\n",
    "from collections import Counter\n",
    "import pandas as pd\n",
    "import hvplot.pandas\n",
    "import holoviews as hv\n",
    "from holoviews import opts\n",
    "from itertools import product\n",
    "from tqdm import tqdm\n",
    "import seaborn as sns\n",
    "\n",
    "import sys\n",
    "sys.path.append(\"..\")\n",
    "from modules.faker import create_fake_ab_test_results\n",
    "from modules.utils import progress_print\n"
   ]
  },
  {
   "cell_type": "markdown",
   "metadata": {},
   "source": [
    "## Example of one experiment"
   ]
  },
  {
   "cell_type": "markdown",
   "metadata": {
    "pycharm": {
     "name": "#%% md\n"
    }
   },
   "source": [
    "Generate fake A/B data with the faker module."
   ]
  },
  {
   "cell_type": "code",
   "execution_count": 182,
   "metadata": {
    "pycharm": {
     "is_executing": true,
     "name": "#%%\n"
    }
   },
   "outputs": [],
   "source": [
    "n_resp = 1000\n",
    "prob_a = 0.6\n",
    "results = create_fake_ab_test_results(n=n_resp, prob_a=prob_a)"
   ]
  },
  {
   "cell_type": "markdown",
   "metadata": {},
   "source": [
    "Inspect the results"
   ]
  },
  {
   "cell_type": "code",
   "execution_count": 183,
   "metadata": {
    "pycharm": {
     "is_executing": true,
     "name": "#%%\n"
    }
   },
   "outputs": [
    {
     "name": "stdout",
     "output_type": "stream",
     "text": [
      "Counter({0: 627, 1: 373})\n",
      "Percentage of A: 0.627\n",
      "Prob A was set at: 0.6\n"
     ]
    }
   ],
   "source": [
    "print(Counter(results[\"choice\"]))\n",
    "print(\"Percentage of A: {}\".format(sum(results[\"choice\"]==0)/len(results[\"choice\"])))\n",
    "print(\"Prob A was set at: {}\".format(prob_a))"
   ]
  },
  {
   "cell_type": "markdown",
   "metadata": {},
   "source": [
    "In this simple case of a binary choice experiment, we can solve the posterior analytically for the seen data:\n"
   ]
  },
  {
   "cell_type": "code",
   "execution_count": 184,
   "metadata": {
    "pycharm": {
     "is_executing": true,
     "name": "#%%\n"
    }
   },
   "outputs": [
    {
     "name": "stdout",
     "output_type": "stream",
     "text": [
      "Number of 0s (A) in data: 627\n",
      "Number of 0s (B) in data: 373\n"
     ]
    },
    {
     "data": {
      "text/plain": [
       "[<matplotlib.lines.Line2D at 0x1a178f400>]"
      ]
     },
     "execution_count": 184,
     "metadata": {},
     "output_type": "execute_result"
    },
    {
     "data": {
      "image/png": "[encoded data removed]",
      "text/plain": [
       "<Figure size 432x288 with 1 Axes>"
      ]
     },
     "metadata": {
      "needs_background": "light"
     },
     "output_type": "display_data"
    }
   ],
   "source": [
    "L = sum(results[\"choice\"]) # number of B in data\n",
    "W = len(results[\"choice\"]) - L # number of A in data\n",
    "print(\"Number of 0s (A) in data: {}\".format(W))\n",
    "print(\"Number of 0s (B) in data: {}\".format(L))\n",
    "x = jnp.linspace(0, 1, 101)\n",
    "#jnp.exp(dist.Beta(W + 1, L + 1).log_prob(x))\n",
    "plt.plot(x, jnp.exp(dist.Beta(W + 1, L + 1).log_prob(x)))"
   ]
  },
  {
   "cell_type": "markdown",
   "metadata": {},
   "source": [
    "As we can see, the posterior shows that we can be quite sure that A is the more popular option."
   ]
  },
  {
   "cell_type": "markdown",
   "metadata": {},
   "source": [
    "To make this sensitive to prior beliefs, we can set a prior that describes our prior understanding. `Beta(X,Y)` prior describes prior data where A was chosen X times and B was chosen Y times. For example, if we have very strong opinion that A and B are equally good, we could use a prior such as `Beta(1000,1000)`. On the other hand, if we are unsure and want a uncommitted prior, we can use e.g. `Beta(2,2)`. We will use a `Beta(10,10)` prior as default in the model, to reflect the understanding that differences between A and B are unlikely to be huge."
   ]
  },
  {
   "cell_type": "code",
   "execution_count": 185,
   "metadata": {
    "pycharm": {
     "is_executing": true,
     "name": "#%%\n"
    }
   },
   "outputs": [],
   "source": [
    "desired_certainty = 0.95\n",
    "prior = dist.Beta(10,10)\n",
    "#prior=dist.Uniform(0,1) # you could also use a flat prior, but that is quite unrealistic usually"
   ]
  },
  {
   "cell_type": "code",
   "execution_count": 186,
   "metadata": {
    "pycharm": {
     "is_executing": true
    }
   },
   "outputs": [
    {
     "data": {
      "text/plain": [
       "[<matplotlib.lines.Line2D at 0x1a1682760>]"
      ]
     },
     "execution_count": 186,
     "metadata": {},
     "output_type": "execute_result"
    },
    {
     "data": {
      "image/png": "[encoded data removed]",
      "text/plain": [
       "<Figure size 432x288 with 1 Axes>"
      ]
     },
     "metadata": {
      "needs_background": "light"
     },
     "output_type": "display_data"
    }
   ],
   "source": [
    "x = jnp.linspace(0, 1, 101)\n",
    "plt.plot(x, jnp.exp(prior.log_prob(x)), \"--\")"
   ]
  },
  {
   "cell_type": "markdown",
   "metadata": {},
   "source": [
    "As you can see, the prior `Beta(10,10)` shows that likely values are centered around 0.5, meaning A and B are equally good."
   ]
  },
  {
   "cell_type": "markdown",
   "metadata": {},
   "source": [
    "Generally, we can use the module `numpyro` to compute posteriors for our Beta model."
   ]
  },
  {
   "cell_type": "code",
   "execution_count": 187,
   "metadata": {
    "pycharm": {
     "is_executing": true,
     "name": "#%%\n"
    }
   },
   "outputs": [
    {
     "name": "stdout",
     "output_type": "stream",
     "text": [
      "\n",
      "                mean       std    median      2.5%     97.5%     n_eff     r_hat\n",
      "         p      0.53      0.09      0.53      0.36      0.70   8788.29      1.00\n",
      "\n"
     ]
    }
   ],
   "source": [
    "def model(W, L, prior):\n",
    "    p = numpyro.sample(\"p\", prior)  # prior\n",
    "    numpyro.sample(\"W\", dist.Binomial(W + L, p), obs=W)  # binomial likelihood\n",
    "\n",
    "L = 4\n",
    "#print(\"Number of 0s (A) in data: {}\".format(W))\n",
    "W = 6\n",
    "#print(\"Number of 0s (B) in data: {}\".format(L))\n",
    "#print(\"Distribution of seen data:{}\".format(Counter(true_results[\"choice\"][0:i])))\n",
    "guide = AutoLaplaceApproximation(model)\n",
    "svi = SVI(model, guide, optim.Adam(1), Trace_ELBO(), W=W, L=L, prior=prior)\n",
    "params, losses = svi.run(random.PRNGKey(0), 10000, progress_bar=False)\n",
    "\n",
    "# display summary of quadratic approximation\n",
    "samples = guide.sample_posterior(random.PRNGKey(1), params, (10000,))\n",
    "numpyro.diagnostics.print_summary(samples, prob=desired_certainty, group_by_chain=False)"
   ]
  },
  {
   "cell_type": "markdown",
   "metadata": {
    "pycharm": {
     "name": "#%% md\n"
    }
   },
   "source": [
    "Note that in this special beta-binomial case, we can also compute the posterior straight from the posterior distribution that we computed analytically!"
   ]
  },
  {
   "cell_type": "code",
   "execution_count": 188,
   "metadata": {
    "pycharm": {
     "is_executing": true,
     "name": "#%%\n"
    }
   },
   "outputs": [
    {
     "name": "stdout",
     "output_type": "stream",
     "text": [
      "mean 0.53, std 0.09, median 0.53, 2.5% 0.36, 97.5% 0.71\n"
     ]
    }
   ],
   "source": [
    "s_beta = dist.Beta(W+10, L+10).sample(random.PRNGKey(1), (10000,))\n",
    "print(\"mean {:.2f}, std {:.2f}, median {:.2f}, 2.5% {:.2f}, 97.5% {:.2f}\".format(\n",
    "np.mean(s_beta), np.std(s_beta), np.median(s_beta), np.percentile(s_beta, 2.5), np.percentile(s_beta, 97.5)))"
   ]
  },
  {
   "cell_type": "markdown",
   "metadata": {},
   "source": [
    "As we can see, results of the `numpyro` SVI computation and analytical solution are almost exactly the same (up to a certain level of randomness). Analytical solution - i.e. straight simulation from the posterior - is much faster, so we should use that whenever possible."
   ]
  },
  {
   "cell_type": "markdown",
   "metadata": {},
   "source": [
    "Now, let's define our function for analysis of the whole experiment. Inputs are:\n",
    "* `desired_certainty`: level of certainty about the inference of A vs. B\n",
    "* `true_results`: the results of the experiment\n",
    "* `true_probs_a`: The true probability of theta for generation of the data.\n",
    "* `min_n_obs`: Minimum number of observations that must be run before breaking the experiment.\n",
    "* `inference_strategy`: `\"analytical\"` for using the analytical solution, `\"svi\"` for SVI. Analytical is much faster.\n",
    "* `rope_width`: Radius of the ROPE region.\n",
    "* `null_effect`: Value of no effect (0.5 in binary choice).\n",
    "* `step`: Evaluate breaking of experiment at each `step` obs. Smaller is more accurate, but makes analysis runtime longer."
   ]
  },
  {
   "cell_type": "code",
   "execution_count": 198,
   "metadata": {
    "pycharm": {
     "is_executing": true,
     "name": "#%%\n"
    }
   },
   "outputs": [],
   "source": [
    "def sim_single_experiment(desired_certainty: float, true_results: dict, true_probs_a: List[float],\n",
    "                         min_n_obs: int =10, inference_strategy:str=\"analytical\", rope_width:float=0.01,\n",
    "                         null_effect:float = 0.5, step:int=50, print_progress: str = False) -> pd.DataFrame:\n",
    "    n_range = list(range(0,len(true_results[\"choice\"])+1,step))\n",
    "    n_range[0] = 1\n",
    "    experiment_length = len(n_range)\n",
    "    rope_area = (null_effect-rope_width, null_effect+rope_width)\n",
    "    res = pd.DataFrame()\n",
    "    res[\"hpdi_lower\"] = [np.nan] * experiment_length\n",
    "    res[\"hpdi_upper\"] = [np.nan] * experiment_length\n",
    "    res[\"n\"] = [np.nan] * experiment_length\n",
    "    res[\"percent_in_rope\"] = [np.nan] * experiment_length\n",
    "    res[\"conclusion\"] = [np.nan] * experiment_length\n",
    "    for true_prob_a in true_probs_a:\n",
    "        progress_print(\"Running experiment with true_prob_a: {}, desired_certainty {}, ROPE {}\\n\".format(true_prob_a, \n",
    "                                                                                                desired_certainty,\n",
    "                                                                                               rope_area),\n",
    "                      print_progress)\n",
    "\n",
    "        # run inference for each step\n",
    "        # we do not run sequentially so we can analyse the counterfactual situation of not breaking the exp\n",
    "        samples, hpdi = list(zip(*[run_inference(i, true_results, inference_strategy) for i in n_range]))\n",
    "        res[\"hpdi_lower\"] = [x[0] for x in hpdi]\n",
    "        res[\"hpdi_upper\"] = [x[1] for x in hpdi]\n",
    "        res[\"n\"] = n_range\n",
    "        res.iloc[0, res.columns.get_loc(\"n\")] = 1\n",
    "        res[\"desired_certainty\"] = desired_certainty\n",
    "        res[\"true_prob_a\"] = true_prob_a\n",
    "        res[\"ended\"] = False\n",
    "        res[\"stopping_reason\"] = None\n",
    "        res[\"conclusion\"] = None\n",
    "        \n",
    "\n",
    "        for i in range(len(res)):\n",
    "            nobs = res.loc[:,\"n\"][i]\n",
    "            if ((nobs % 10 == 0) & (nobs >= min_n_obs)):\n",
    "                hpdi = (res[\"hpdi_lower\"][i], res[\"hpdi_upper\"][i])\n",
    "                percent_in_rope = max(0, min(rope_area[1], hpdi[1]) - max(rope_area[0], hpdi[0])) / (hpdi[1]-hpdi[0])\n",
    "                res[\"percent_in_rope\"] = percent_in_rope\n",
    "                progress_print(\"With {} obs {}, {:.0%} HPDI is {:.3f} - {:.3f} ({:.3%} in ROPE)\".format(nobs, dict(Counter(true_results[\"choice\"][0:nobs])),\n",
    "                                                                              desired_certainty, hpdi[0],hpdi[1],\n",
    "                                                                                                percent_in_rope), \n",
    "                               print_progress)\n",
    "                rope = check_rope(percent_in_rope)\n",
    "                if rope == \"uncertain\":\n",
    "                    progress_print(\"Too much uncertainty at {} obs, should continue study.\".format(nobs), print_progress)\n",
    "                    pass\n",
    "                elif rope == \"no_diff\":\n",
    "                    progress_print(\"HDI inside ROPE, so no practical difference at {} certainty!\".format(desired_certainty), print_progress)\n",
    "                    res.loc[res[\"n\"] >= nobs,\"ended\"] = True\n",
    "                    res.loc[res[\"n\"] >= nobs,\"stopping_reason\"] = \"bayes\"\n",
    "                    res.loc[res[\"n\"] == nobs,\"conclusion\"] = \"no_diff\"\n",
    "                    progress_print(\"Breaking at {} obs.\\n\".format(nobs), print_progress)\n",
    "                    break\n",
    "                elif rope == \"signif_diff\":\n",
    "                    progress_print(\"HDI outside ROPE, so signif. diff at {} certainty!\".format(desired_certainty), print_progress)\n",
    "                    res.loc[res[\"n\"] >= nobs,\"ended\"] = True\n",
    "                    res.loc[res[\"n\"] >= nobs,\"stopping_reason\"] = \"bayes\"\n",
    "                    if hpdi[0] > 0.5:\n",
    "                        res.loc[res[\"n\"] >= nobs,\"conclusion\"] = \"A\"\n",
    "                        progress_print(\"Conclude: A is better!\", print_progress)\n",
    "                    elif hpdi[1] < 0.5:\n",
    "                        res.loc[res[\"n\"] >= nobs,\"conclusion\"] = \"B\"\n",
    "                        progress_print(\"Conclude: B is better!\", print_progress)\n",
    "                    else:\n",
    "                        #print(\"Something is wrong, HDI {} outside ROPE {} but unsure\".format(hpdi, rope_area))\n",
    "                        #res.loc[res[\"n\"] >= nobs,\"conclusion\"] = \"WHAT\"\n",
    "                        raise ValueError(\"Something is wrong, HDI {} outside ROPE {} but unsure\".format(hpdi, rope_area))\n",
    "                    progress_print(\"Breaking at {} obs.\\n\".format(nobs), print_progress)\n",
    "                    break\n",
    "\n",
    "        # if experiment didn't break prematurely, change last obs to \"ended\"\n",
    "        if sum(res[\"ended\"])==0:\n",
    "            res.iloc[-1, res.columns.get_loc(\"ended\")] = True\n",
    "            res.iloc[-1, res.columns.get_loc(\"stopping_reason\")] = \"end_of_experiment\"\n",
    "            progress_print(\"Ending experiment at {} obs because reached end of data.\".format(nobs), print_progress)\n",
    "\n",
    "    res[\"correct\"] = res.apply(lambda row: row[\"conclusion\"]==\"A\", axis=1)\n",
    "    return res\n",
    "\n",
    "def check_rope(percent_in_rope):\n",
    "    if percent_in_rope > 0.99:\n",
    "        return \"no_diff\"\n",
    "    elif percent_in_rope < 0.01:\n",
    "        return \"signif_diff\"\n",
    "    else:\n",
    "        return \"uncertain\"\n",
    "\n",
    "def run_inference(i, true_results, inference_strategy, prior_w=10, prior_l=10):\n",
    "    W = sum(true_results[\"choice\"][0:i]==0)\n",
    "    L = sum(true_results[\"choice\"][0:i]==1)\n",
    "    if inference_strategy == \"svi\":\n",
    "        def model(W, L):\n",
    "            prior = numpyro.distributions.Beta(prior_w,prior_l)\n",
    "            p = numpyro.sample(\"p\", prior)  # prior\n",
    "            numpyro.sample(\"W\", dist.Binomial(W + L, p), obs=W)  # binomial likelihood\n",
    "        guide = AutoLaplaceApproximation(model)\n",
    "        svi = SVI(model, guide, optim.Adam(1), Trace_ELBO(), W=W, L=L, prior=dist.Beta(1,1))\n",
    "        params, losses = svi.run(random.PRNGKey(0), 1000, progress_bar=False)\n",
    "        # display summary of quadratic approximation\n",
    "        post_samples = guide.sample_posterior(random.PRNGKey(1), params, (1000,))\n",
    "    if inference_strategy == \"analytical\":\n",
    "                post_samples = dict()\n",
    "                post_samples[\"p\"] = dist.Beta(W+prior_w, L+prior_l).sample(random.PRNGKey(1), (1000,))\n",
    "    hpdi=numpyro.diagnostics.hpdi(post_samples[\"p\"],prob=desired_certainty)\n",
    "    return post_samples, hpdi"
   ]
  },
  {
   "cell_type": "code",
   "execution_count": 199,
   "metadata": {
    "pycharm": {
     "is_executing": true,
     "name": "#%%\n"
    }
   },
   "outputs": [
    {
     "name": "stdout",
     "output_type": "stream",
     "text": [
      "Running experiment with true_prob_a: 0.6, desired_certainty 0.9, ROPE (0.49, 0.51)\n",
      "\n",
      "With 50 obs {0: 21, 1: 29}, 90% HPDI is 0.330 - 0.561 (8.669% in ROPE)\n",
      "Too much uncertainty at 50 obs, should continue study.\n",
      "With 100 obs {0: 49, 1: 51}, 90% HPDI is 0.401 - 0.579 (11.201% in ROPE)\n",
      "Too much uncertainty at 100 obs, should continue study.\n",
      "With 150 obs {0: 78, 1: 72}, 90% HPDI is 0.444 - 0.595 (13.209% in ROPE)\n",
      "Too much uncertainty at 150 obs, should continue study.\n",
      "With 200 obs {0: 106, 1: 94}, 90% HPDI is 0.462 - 0.595 (15.053% in ROPE)\n",
      "Too much uncertainty at 200 obs, should continue study.\n",
      "With 250 obs {0: 135, 1: 115}, 90% HPDI is 0.478 - 0.598 (16.675% in ROPE)\n",
      "Too much uncertainty at 250 obs, should continue study.\n",
      "With 300 obs {0: 161, 1: 139}, 90% HPDI is 0.480 - 0.590 (18.161% in ROPE)\n",
      "Too much uncertainty at 300 obs, should continue study.\n",
      "With 350 obs {0: 188, 1: 162}, 90% HPDI is 0.485 - 0.587 (19.571% in ROPE)\n",
      "Too much uncertainty at 350 obs, should continue study.\n",
      "With 400 obs {0: 217, 1: 183}, 90% HPDI is 0.493 - 0.589 (17.292% in ROPE)\n",
      "Too much uncertainty at 400 obs, should continue study.\n",
      "With 450 obs {0: 249, 1: 201}, 90% HPDI is 0.506 - 0.597 (4.466% in ROPE)\n",
      "Too much uncertainty at 450 obs, should continue study.\n",
      "With 500 obs {0: 281, 1: 219}, 90% HPDI is 0.520 - 0.606 (0.000% in ROPE)\n",
      "HDI outside ROPE, so signif. diff at 0.9 certainty!\n",
      "Conclude: A is better!\n",
      "Breaking at 500 obs.\n",
      "\n"
     ]
    }
   ],
   "source": [
    "n_resp = 500\n",
    "prob_a = 0.60\n",
    "certainty_level = 0.90\n",
    "results = faker.create_fake_ab_test_results(n=n_resp, prob_a=prob_a)\n",
    "res = sim_single_experiment(certainty_level, results, true_probs_a=[prob_a], step=50, print_progress=True)"
   ]
  },
  {
   "cell_type": "code",
   "execution_count": 200,
   "metadata": {},
   "outputs": [
    {
     "data": {
      "text/html": [
       "<div>\n",
       "<style scoped>\n",
       "    .dataframe tbody tr th:only-of-type {\n",
       "        vertical-align: middle;\n",
       "    }\n",
       "\n",
       "    .dataframe tbody tr th {\n",
       "        vertical-align: top;\n",
       "    }\n",
       "\n",
       "    .dataframe thead th {\n",
       "        text-align: right;\n",
       "    }\n",
       "</style>\n",
       "<table border=\"1\" class=\"dataframe\">\n",
       "  <thead>\n",
       "    <tr style=\"text-align: right;\">\n",
       "      <th></th>\n",
       "      <th>hpdi_lower</th>\n",
       "      <th>hpdi_upper</th>\n",
       "      <th>n</th>\n",
       "      <th>percent_in_rope</th>\n",
       "      <th>conclusion</th>\n",
       "      <th>desired_certainty</th>\n",
       "      <th>true_prob_a</th>\n",
       "      <th>ended</th>\n",
       "      <th>stopping_reason</th>\n",
       "      <th>correct</th>\n",
       "    </tr>\n",
       "  </thead>\n",
       "  <tbody>\n",
       "    <tr>\n",
       "      <th>0</th>\n",
       "      <td>0.322189</td>\n",
       "      <td>0.732686</td>\n",
       "      <td>1</td>\n",
       "      <td>0.0</td>\n",
       "      <td>None</td>\n",
       "      <td>0.9</td>\n",
       "      <td>0.6</td>\n",
       "      <td>False</td>\n",
       "      <td>None</td>\n",
       "      <td>False</td>\n",
       "    </tr>\n",
       "    <tr>\n",
       "      <th>1</th>\n",
       "      <td>0.330025</td>\n",
       "      <td>0.560735</td>\n",
       "      <td>50</td>\n",
       "      <td>0.0</td>\n",
       "      <td>None</td>\n",
       "      <td>0.9</td>\n",
       "      <td>0.6</td>\n",
       "      <td>False</td>\n",
       "      <td>None</td>\n",
       "      <td>False</td>\n",
       "    </tr>\n",
       "    <tr>\n",
       "      <th>2</th>\n",
       "      <td>0.400565</td>\n",
       "      <td>0.579125</td>\n",
       "      <td>100</td>\n",
       "      <td>0.0</td>\n",
       "      <td>None</td>\n",
       "      <td>0.9</td>\n",
       "      <td>0.6</td>\n",
       "      <td>False</td>\n",
       "      <td>None</td>\n",
       "      <td>False</td>\n",
       "    </tr>\n",
       "    <tr>\n",
       "      <th>3</th>\n",
       "      <td>0.443730</td>\n",
       "      <td>0.595139</td>\n",
       "      <td>150</td>\n",
       "      <td>0.0</td>\n",
       "      <td>None</td>\n",
       "      <td>0.9</td>\n",
       "      <td>0.6</td>\n",
       "      <td>False</td>\n",
       "      <td>None</td>\n",
       "      <td>False</td>\n",
       "    </tr>\n",
       "    <tr>\n",
       "      <th>4</th>\n",
       "      <td>0.462204</td>\n",
       "      <td>0.595071</td>\n",
       "      <td>200</td>\n",
       "      <td>0.0</td>\n",
       "      <td>None</td>\n",
       "      <td>0.9</td>\n",
       "      <td>0.6</td>\n",
       "      <td>False</td>\n",
       "      <td>None</td>\n",
       "      <td>False</td>\n",
       "    </tr>\n",
       "    <tr>\n",
       "      <th>5</th>\n",
       "      <td>0.477863</td>\n",
       "      <td>0.597801</td>\n",
       "      <td>250</td>\n",
       "      <td>0.0</td>\n",
       "      <td>None</td>\n",
       "      <td>0.9</td>\n",
       "      <td>0.6</td>\n",
       "      <td>False</td>\n",
       "      <td>None</td>\n",
       "      <td>False</td>\n",
       "    </tr>\n",
       "    <tr>\n",
       "      <th>6</th>\n",
       "      <td>0.480221</td>\n",
       "      <td>0.590350</td>\n",
       "      <td>300</td>\n",
       "      <td>0.0</td>\n",
       "      <td>None</td>\n",
       "      <td>0.9</td>\n",
       "      <td>0.6</td>\n",
       "      <td>False</td>\n",
       "      <td>None</td>\n",
       "      <td>False</td>\n",
       "    </tr>\n",
       "    <tr>\n",
       "      <th>7</th>\n",
       "      <td>0.484933</td>\n",
       "      <td>0.587122</td>\n",
       "      <td>350</td>\n",
       "      <td>0.0</td>\n",
       "      <td>None</td>\n",
       "      <td>0.9</td>\n",
       "      <td>0.6</td>\n",
       "      <td>False</td>\n",
       "      <td>None</td>\n",
       "      <td>False</td>\n",
       "    </tr>\n",
       "    <tr>\n",
       "      <th>8</th>\n",
       "      <td>0.493434</td>\n",
       "      <td>0.589235</td>\n",
       "      <td>400</td>\n",
       "      <td>0.0</td>\n",
       "      <td>None</td>\n",
       "      <td>0.9</td>\n",
       "      <td>0.6</td>\n",
       "      <td>False</td>\n",
       "      <td>None</td>\n",
       "      <td>False</td>\n",
       "    </tr>\n",
       "    <tr>\n",
       "      <th>9</th>\n",
       "      <td>0.505927</td>\n",
       "      <td>0.597135</td>\n",
       "      <td>450</td>\n",
       "      <td>0.0</td>\n",
       "      <td>None</td>\n",
       "      <td>0.9</td>\n",
       "      <td>0.6</td>\n",
       "      <td>False</td>\n",
       "      <td>None</td>\n",
       "      <td>False</td>\n",
       "    </tr>\n",
       "    <tr>\n",
       "      <th>10</th>\n",
       "      <td>0.520024</td>\n",
       "      <td>0.606443</td>\n",
       "      <td>500</td>\n",
       "      <td>0.0</td>\n",
       "      <td>A</td>\n",
       "      <td>0.9</td>\n",
       "      <td>0.6</td>\n",
       "      <td>True</td>\n",
       "      <td>bayes</td>\n",
       "      <td>True</td>\n",
       "    </tr>\n",
       "  </tbody>\n",
       "</table>\n",
       "</div>"
      ],
      "text/plain": [
       "    hpdi_lower  hpdi_upper    n  percent_in_rope conclusion  \\\n",
       "0     0.322189    0.732686    1              0.0       None   \n",
       "1     0.330025    0.560735   50              0.0       None   \n",
       "2     0.400565    0.579125  100              0.0       None   \n",
       "3     0.443730    0.595139  150              0.0       None   \n",
       "4     0.462204    0.595071  200              0.0       None   \n",
       "5     0.477863    0.597801  250              0.0       None   \n",
       "6     0.480221    0.590350  300              0.0       None   \n",
       "7     0.484933    0.587122  350              0.0       None   \n",
       "8     0.493434    0.589235  400              0.0       None   \n",
       "9     0.505927    0.597135  450              0.0       None   \n",
       "10    0.520024    0.606443  500              0.0          A   \n",
       "\n",
       "    desired_certainty  true_prob_a  ended stopping_reason  correct  \n",
       "0                 0.9          0.6  False            None    False  \n",
       "1                 0.9          0.6  False            None    False  \n",
       "2                 0.9          0.6  False            None    False  \n",
       "3                 0.9          0.6  False            None    False  \n",
       "4                 0.9          0.6  False            None    False  \n",
       "5                 0.9          0.6  False            None    False  \n",
       "6                 0.9          0.6  False            None    False  \n",
       "7                 0.9          0.6  False            None    False  \n",
       "8                 0.9          0.6  False            None    False  \n",
       "9                 0.9          0.6  False            None    False  \n",
       "10                0.9          0.6   True           bayes     True  "
      ]
     },
     "execution_count": 200,
     "metadata": {},
     "output_type": "execute_result"
    }
   ],
   "source": [
    "res"
   ]
  },
  {
   "cell_type": "code",
   "execution_count": 201,
   "metadata": {},
   "outputs": [],
   "source": [
    "cutoff = (res.ended==True).idxmax()\n",
    "res.iloc[(cutoff-1):(cutoff + 5)]\n",
    "cutoff_n = res.loc[(res.ended==True).idxmax(),\"n\"]"
   ]
  },
  {
   "cell_type": "markdown",
   "metadata": {},
   "source": [
    "Plot how the CI of theta has evolved over the experiment."
   ]
  },
  {
   "cell_type": "code",
   "execution_count": 202,
   "metadata": {
    "pycharm": {
     "is_executing": true,
     "name": "#%%\n"
    }
   },
   "outputs": [
    {
     "data": {},
     "metadata": {},
     "output_type": "display_data"
    },
    {
     "data": {
      "application/vnd.holoviews_exec.v0+json": "",
      "text/html": [
       "<div id='33487'>\n",
       "\n",
       "\n",
       "\n",
       "\n",
       "\n",
       "  <div class=\"bk-root\" id=\"50fec4aa-1f6f-41bd-b5f9-4f62985659ec\" data-root-id=\"33487\"></div>\n",
       "</div>\n",
       "<script type=\"application/javascript\">(function(root) {\n",
       "  function embed_document(root) {\n",
       "    var docs_json = {\"fd774453-5349-4db8-8c01-a9bd4f157b6c\":{\"defs\":[],\"roots\":{\"references\":[{\"attributes\":{},\"id\":\"33504\",\"type\":\"BasicTicker\"},{\"attributes\":{\"line_alpha\":0.1,\"line_color\":\"#e5ae38\",\"line_width\":2,\"x\":{\"field\":\"n\"},\"y\":{\"field\":\"value\"}},\"id\":\"33577\",\"type\":\"Line\"},{\"attributes\":{},\"id\":\"33499\",\"type\":\"LinearScale\"},{\"attributes\":{\"overlay\":{\"id\":\"33516\"}},\"id\":\"33514\",\"type\":\"BoxZoomTool\"},{\"attributes\":{\"line_color\":\"#e5ae38\",\"line_width\":2,\"x\":{\"field\":\"n\"},\"y\":{\"field\":\"value\"}},\"id\":\"33576\",\"type\":\"Line\"},{\"attributes\":{},\"id\":\"33528\",\"type\":\"AllLabels\"},{\"attributes\":{\"click_policy\":\"mute\",\"items\":[{\"id\":\"33549\"},{\"id\":\"33571\"},{\"id\":\"33595\"}],\"location\":[0,0]},\"id\":\"33548\",\"type\":\"Legend\"},{\"attributes\":{\"line_alpha\":0.1,\"line_color\":\"#fc4f30\",\"line_width\":2,\"x\":{\"field\":\"n\"},\"y\":{\"field\":\"value\"}},\"id\":\"33555\",\"type\":\"Line\"},{\"attributes\":{},\"id\":\"33593\",\"type\":\"UnionRenderers\"},{\"attributes\":{\"line_color\":\"#30a2da\",\"line_width\":2,\"x\":{\"field\":\"n\"},\"y\":{\"field\":\"value\"}},\"id\":\"33550\",\"type\":\"Line\"},{\"attributes\":{\"below\":[{\"id\":\"33503\"}],\"center\":[{\"id\":\"33506\"},{\"id\":\"33510\"}],\"height\":300,\"left\":[{\"id\":\"33507\"}],\"margin\":[5,5,5,5],\"min_border_bottom\":10,\"min_border_left\":10,\"min_border_right\":10,\"min_border_top\":10,\"renderers\":[{\"id\":\"33536\"},{\"id\":\"33557\"},{\"id\":\"33579\"},{\"id\":\"33697\"},{\"id\":\"33700\"}],\"right\":[{\"id\":\"33548\"}],\"sizing_mode\":\"fixed\",\"title\":{\"id\":\"33495\"},\"toolbar\":{\"id\":\"33517\"},\"width\":700,\"x_range\":{\"id\":\"33489\"},\"x_scale\":{\"id\":\"33499\"},\"y_range\":{\"id\":\"33490\"},\"y_scale\":{\"id\":\"33501\"}},\"id\":\"33494\",\"subtype\":\"Figure\",\"type\":\"Plot\"},{\"attributes\":{\"data\":{\"Variable\":[\"hpdi_lower\",\"hpdi_lower\",\"hpdi_lower\",\"hpdi_lower\",\"hpdi_lower\",\"hpdi_lower\",\"hpdi_lower\",\"hpdi_lower\",\"hpdi_lower\",\"hpdi_lower\",\"hpdi_lower\"],\"n\":[1,50,100,150,200,250,300,350,400,450,500],\"value\":{\"__ndarray__\":\"AAAAQL6e1D8AAACAHx/VPwAAAADbotk/AAAAoBBm3D8AAABgwJTdPwAAAEBNld4/AAAAYPG73j8AAACgIgnfPwAAAABtlN8/AAAA4I0w4D8AAAAACqTgPw==\",\"dtype\":\"float64\",\"order\":\"little\",\"shape\":[11]}},\"selected\":{\"id\":\"33531\"},\"selection_policy\":{\"id\":\"33546\"}},\"id\":\"33530\",\"type\":\"ColumnDataSource\"},{\"attributes\":{\"label\":{\"value\":\"hpdi_lower\"},\"renderers\":[{\"id\":\"33536\"}]},\"id\":\"33549\",\"type\":\"LegendItem\"},{\"attributes\":{\"label\":{\"value\":\"true_prob_a\"},\"renderers\":[{\"id\":\"33579\"}]},\"id\":\"33595\",\"type\":\"LegendItem\"},{\"attributes\":{},\"id\":\"33524\",\"type\":\"BasicTickFormatter\"},{\"attributes\":{},\"id\":\"33531\",\"type\":\"Selection\"},{\"attributes\":{\"text_color\":\"black\",\"text_font_size\":\"12pt\"},\"id\":\"33495\",\"type\":\"Title\"},{\"attributes\":{},\"id\":\"33501\",\"type\":\"LinearScale\"},{\"attributes\":{},\"id\":\"33525\",\"type\":\"AllLabels\"},{\"attributes\":{},\"id\":\"33552\",\"type\":\"Selection\"},{\"attributes\":{\"line_alpha\":0.2,\"line_color\":\"#e5ae38\",\"line_width\":2,\"x\":{\"field\":\"n\"},\"y\":{\"field\":\"value\"}},\"id\":\"33578\",\"type\":\"Line\"},{\"attributes\":{\"line_color\":\"#e5ae38\",\"line_width\":2,\"x\":{\"field\":\"n\"},\"y\":{\"field\":\"value\"}},\"id\":\"33596\",\"type\":\"Line\"},{\"attributes\":{},\"id\":\"33512\",\"type\":\"PanTool\"},{\"attributes\":{\"data_source\":{\"id\":\"33573\"},\"glyph\":{\"id\":\"33576\"},\"hover_glyph\":null,\"muted_glyph\":{\"id\":\"33578\"},\"nonselection_glyph\":{\"id\":\"33577\"},\"selection_glyph\":{\"id\":\"33596\"},\"view\":{\"id\":\"33580\"}},\"id\":\"33579\",\"type\":\"GlyphRenderer\"},{\"attributes\":{\"line_alpha\":0.2,\"line_color\":\"#30a2da\",\"line_width\":2,\"x\":{\"field\":\"n\"},\"y\":{\"field\":\"value\"}},\"id\":\"33535\",\"type\":\"Line\"},{\"attributes\":{\"line_color\":\"#fc4f30\",\"line_width\":2,\"x\":{\"field\":\"n\"},\"y\":{\"field\":\"value\"}},\"id\":\"33572\",\"type\":\"Line\"},{\"attributes\":{\"children\":[{\"id\":\"33488\"},{\"id\":\"33494\"},{\"id\":\"33827\"}],\"margin\":[0,0,0,0],\"name\":\"Row52557\",\"tags\":[\"embedded\"]},\"id\":\"33487\",\"type\":\"Row\"},{\"attributes\":{\"margin\":[5,5,5,5],\"name\":\"HSpacer52562\",\"sizing_mode\":\"stretch_width\"},\"id\":\"33827\",\"type\":\"Spacer\"},{\"attributes\":{\"line_color\":\"#fc4f30\",\"line_width\":2,\"x\":{\"field\":\"n\"},\"y\":{\"field\":\"value\"}},\"id\":\"33554\",\"type\":\"Line\"},{\"attributes\":{\"bottom_units\":\"screen\",\"fill_alpha\":0.5,\"fill_color\":\"lightgrey\",\"left_units\":\"screen\",\"level\":\"overlay\",\"line_alpha\":1.0,\"line_color\":\"black\",\"line_dash\":[4,4],\"line_width\":2,\"right_units\":\"screen\",\"syncable\":false,\"top_units\":\"screen\"},\"id\":\"33516\",\"type\":\"BoxAnnotation\"},{\"attributes\":{\"data_source\":{\"id\":\"33530\"},\"glyph\":{\"id\":\"33533\"},\"hover_glyph\":null,\"muted_glyph\":{\"id\":\"33535\"},\"nonselection_glyph\":{\"id\":\"33534\"},\"selection_glyph\":{\"id\":\"33550\"},\"view\":{\"id\":\"33537\"}},\"id\":\"33536\",\"type\":\"GlyphRenderer\"},{\"attributes\":{\"data\":{\"Variable\":[\"hpdi_upper\",\"hpdi_upper\",\"hpdi_upper\",\"hpdi_upper\",\"hpdi_upper\",\"hpdi_upper\",\"hpdi_upper\",\"hpdi_upper\",\"hpdi_upper\",\"hpdi_upper\",\"hpdi_upper\"],\"n\":[1,50,100,150,200,250,300,350,400,450,500],\"value\":{\"__ndarray__\":\"AAAAACly5z8AAAAgi/HhPwAAAKAwiOI/AAAA4GAL4z8AAADg0grjPwAAAMAuIeM/AAAA4CTk4j8AAADAtMniPwAAAEAD2+I/AAAAQLob4z8AAABA+mfjPw==\",\"dtype\":\"float64\",\"order\":\"little\",\"shape\":[11]}},\"selected\":{\"id\":\"33552\"},\"selection_policy\":{\"id\":\"33569\"}},\"id\":\"33551\",\"type\":\"ColumnDataSource\"},{\"attributes\":{},\"id\":\"33513\",\"type\":\"WheelZoomTool\"},{\"attributes\":{\"axis_label\":\"\",\"formatter\":{\"id\":\"33527\"},\"major_label_policy\":{\"id\":\"33528\"},\"ticker\":{\"id\":\"33508\"}},\"id\":\"33507\",\"type\":\"LinearAxis\"},{\"attributes\":{\"label\":{\"value\":\"hpdi_upper\"},\"renderers\":[{\"id\":\"33557\"}]},\"id\":\"33571\",\"type\":\"LegendItem\"},{\"attributes\":{\"line_alpha\":0.1,\"line_color\":\"#30a2da\",\"line_width\":2,\"x\":{\"field\":\"n\"},\"y\":{\"field\":\"value\"}},\"id\":\"33534\",\"type\":\"Line\"},{\"attributes\":{\"axis_label\":\"n\",\"formatter\":{\"id\":\"33524\"},\"major_label_policy\":{\"id\":\"33525\"},\"ticker\":{\"id\":\"33504\"}},\"id\":\"33503\",\"type\":\"LinearAxis\"},{\"attributes\":{},\"id\":\"33574\",\"type\":\"Selection\"},{\"attributes\":{\"source\":{\"id\":\"33551\"}},\"id\":\"33558\",\"type\":\"CDSView\"},{\"attributes\":{\"line_alpha\":0.2,\"line_color\":\"#fc4f30\",\"line_width\":2,\"x\":{\"field\":\"n\"},\"y\":{\"field\":\"value\"}},\"id\":\"33556\",\"type\":\"Line\"},{\"attributes\":{\"source\":{\"id\":\"33573\"}},\"id\":\"33580\",\"type\":\"CDSView\"},{\"attributes\":{},\"id\":\"33569\",\"type\":\"UnionRenderers\"},{\"attributes\":{\"callback\":null,\"renderers\":[{\"id\":\"33536\"},{\"id\":\"33557\"},{\"id\":\"33579\"}],\"tags\":[\"hv_created\"],\"tooltips\":[[\"Variable\",\"@{Variable}\"],[\"n\",\"@{n}\"],[\"value\",\"@{value}\"]]},\"id\":\"33491\",\"type\":\"HoverTool\"},{\"attributes\":{},\"id\":\"33508\",\"type\":\"BasicTicker\"},{\"attributes\":{\"dimension\":\"height\",\"level\":\"glyph\",\"line_color\":\"red\",\"line_dash\":[6],\"line_width\":0.8,\"location\":500},\"id\":\"33700\",\"type\":\"Span\"},{\"attributes\":{\"data_source\":{\"id\":\"33551\"},\"glyph\":{\"id\":\"33554\"},\"hover_glyph\":null,\"muted_glyph\":{\"id\":\"33556\"},\"nonselection_glyph\":{\"id\":\"33555\"},\"selection_glyph\":{\"id\":\"33572\"},\"view\":{\"id\":\"33558\"}},\"id\":\"33557\",\"type\":\"GlyphRenderer\"},{\"attributes\":{\"line_color\":\"#30a2da\",\"line_width\":2,\"x\":{\"field\":\"n\"},\"y\":{\"field\":\"value\"}},\"id\":\"33533\",\"type\":\"Line\"},{\"attributes\":{\"end\":500.0,\"reset_end\":500.0,\"reset_start\":1.0,\"start\":1.0,\"tags\":[[[\"n\",\"n\",null]]]},\"id\":\"33489\",\"type\":\"Range1d\"},{\"attributes\":{\"axis\":{\"id\":\"33507\"},\"dimension\":1,\"grid_line_color\":null,\"ticker\":null},\"id\":\"33510\",\"type\":\"Grid\"},{\"attributes\":{\"data\":{\"Variable\":[\"true_prob_a\",\"true_prob_a\",\"true_prob_a\",\"true_prob_a\",\"true_prob_a\",\"true_prob_a\",\"true_prob_a\",\"true_prob_a\",\"true_prob_a\",\"true_prob_a\",\"true_prob_a\"],\"n\":[1,50,100,150,200,250,300,350,400,450,500],\"value\":{\"__ndarray__\":\"MzMzMzMz4z8zMzMzMzPjPzMzMzMzM+M/MzMzMzMz4z8zMzMzMzPjPzMzMzMzM+M/MzMzMzMz4z8zMzMzMzPjPzMzMzMzM+M/MzMzMzMz4z8zMzMzMzPjPw==\",\"dtype\":\"float64\",\"order\":\"little\",\"shape\":[11]}},\"selected\":{\"id\":\"33574\"},\"selection_policy\":{\"id\":\"33593\"}},\"id\":\"33573\",\"type\":\"ColumnDataSource\"},{\"attributes\":{\"active_multi\":null,\"tools\":[{\"id\":\"33491\"},{\"id\":\"33511\"},{\"id\":\"33512\"},{\"id\":\"33513\"},{\"id\":\"33514\"},{\"id\":\"33515\"}]},\"id\":\"33517\",\"type\":\"Toolbar\"},{\"attributes\":{\"margin\":[5,5,5,5],\"name\":\"HSpacer52561\",\"sizing_mode\":\"stretch_width\"},\"id\":\"33488\",\"type\":\"Spacer\"},{\"attributes\":{},\"id\":\"33511\",\"type\":\"SaveTool\"},{\"attributes\":{\"end\":0.7737352311611175,\"reset_end\":0.7737352311611175,\"reset_start\":0.28113924860954287,\"start\":0.28113924860954287,\"tags\":[[[\"value\",\"value\",null]]]},\"id\":\"33490\",\"type\":\"Range1d\"},{\"attributes\":{},\"id\":\"33527\",\"type\":\"BasicTickFormatter\"},{\"attributes\":{},\"id\":\"33546\",\"type\":\"UnionRenderers\"},{\"attributes\":{\"axis\":{\"id\":\"33503\"},\"grid_line_color\":null,\"ticker\":null},\"id\":\"33506\",\"type\":\"Grid\"},{\"attributes\":{},\"id\":\"33515\",\"type\":\"ResetTool\"},{\"attributes\":{\"level\":\"glyph\",\"line_color\":\"blue\",\"line_dash\":[6],\"location\":0.5},\"id\":\"33697\",\"type\":\"Span\"},{\"attributes\":{\"source\":{\"id\":\"33530\"}},\"id\":\"33537\",\"type\":\"CDSView\"}],\"root_ids\":[\"33487\"]},\"title\":\"Bokeh Application\",\"version\":\"2.3.2\"}};\n",
       "    var render_items = [{\"docid\":\"fd774453-5349-4db8-8c01-a9bd4f157b6c\",\"root_ids\":[\"33487\"],\"roots\":{\"33487\":\"50fec4aa-1f6f-41bd-b5f9-4f62985659ec\"}}];\n",
       "    root.Bokeh.embed.embed_items_notebook(docs_json, render_items);\n",
       "  }\n",
       "  if (root.Bokeh !== undefined && root.Bokeh.Panel !== undefined) {\n",
       "    embed_document(root);\n",
       "  } else {\n",
       "    var attempts = 0;\n",
       "    var timer = setInterval(function(root) {\n",
       "      if (root.Bokeh !== undefined && root.Bokeh.Panel !== undefined) {\n",
       "        clearInterval(timer);\n",
       "        embed_document(root);\n",
       "      } else if (document.readyState == \"complete\") {\n",
       "        attempts++;\n",
       "        if (attempts > 100) {\n",
       "          clearInterval(timer);\n",
       "          console.log(\"Bokeh: ERROR: Unable to run BokehJS code because BokehJS library is missing\");\n",
       "        }\n",
       "      }\n",
       "    }, 10, root)\n",
       "  }\n",
       "})(window);</script>"
      ],
      "text/plain": [
       ":Overlay\n",
       "   .NdOverlay.I :NdOverlay   [Variable]\n",
       "      :Curve   [n]   (value)\n",
       "   .HLine.I     :HLine   [x,y]\n",
       "   .VLine.I     :VLine   [x,y]"
      ]
     },
     "execution_count": 202,
     "metadata": {
      "application/vnd.holoviews_exec.v0+json": {
       "id": "33487"
      }
     },
     "output_type": "execute_result"
    }
   ],
   "source": [
    "res.hvplot.line(x=\"n\", \n",
    "                y=[\"hpdi_lower\",\"hpdi_upper\",\"true_prob_a\"]) * \\\n",
    "    hv.HLine(0.5).opts(\n",
    "    opts.HLine(color='blue', line_width=1, line_dash=\"dashed\")) * \\\n",
    "    hv.VLine(cutoff_n).opts(\n",
    "    opts.VLine(color=\"red\", line_width=0.8, line_dash=\"dashed\"))"
   ]
  },
  {
   "cell_type": "code",
   "execution_count": 264,
   "metadata": {},
   "outputs": [
    {
     "name": "stdout",
     "output_type": "stream",
     "text": [
      "     n    variable     value\n",
      "0    1  hpdi_lower  0.322189\n",
      "1   50  hpdi_lower  0.330025\n",
      "2  100  hpdi_lower  0.400565\n",
      "3  150  hpdi_lower  0.443730\n",
      "4  200  hpdi_lower  0.462204\n"
     ]
    },
    {
     "data": {
      "image/png": "[encoded data removed]",
      "text/plain": [
       "<Figure size 2400x1600 with 1 Axes>"
      ]
     },
     "metadata": {
      "needs_background": "light"
     },
     "output_type": "display_data"
    }
   ],
   "source": [
    "d = pd.melt(res, id_vars=[\"n\"], value_vars=[\"hpdi_lower\",\"hpdi_upper\",\"true_prob_a\"])\n",
    "fig = sns.lineplot(data=d, x=\"n\",y=\"value\", hue=\"variable\")\n",
    "plt.axhline(0.5,linestyle='--', color=\"blue\")\n",
    "plt.axvline(cutoff_n, linestyle=\"--\", color=\"red\")\n",
    "plt.show()"
   ]
  },
  {
   "cell_type": "markdown",
   "metadata": {},
   "source": [
    "## Simulating several experiments"
   ]
  },
  {
   "cell_type": "markdown",
   "metadata": {},
   "source": [
    "Extension of one experiment to several is simple. We just define a grid of parameters, run N experiments for each cell in grid, and collect the results to see how our bayesian system behaves at each parameter value."
   ]
  },
  {
   "cell_type": "code",
   "execution_count": 203,
   "metadata": {
    "pycharm": {
     "is_executing": true
    }
   },
   "outputs": [],
   "source": [
    "def run_single_exp(prob, cert, experiment_no, print_graphs, print_progress):\n",
    "    exp_no = \"_\".join([str(prob), str(cert), str(experiment_no + 1)])\n",
    "    progress_print(\"Creating fake data for experiment {}, true_prob {}, desired cert {}, n_obs {}\".format(experiment_no,\n",
    "                                                                                                 prob, cert, n_resp),\n",
    "         print_progress)\n",
    "    sim_data = faker.create_fake_ab_test_results(n=n_resp, prob_a=prob)\n",
    "    progress_print(\"Simulated data has {} obs\".format(Counter(sim_data[\"choice\"])), print_progress)\n",
    "    single_res = sim_single_experiment(cert, sim_data, true_probs_a=[prob], print_progress=print_progress)\n",
    "    single_res[\"exp_no\"] = exp_no\n",
    "    cutoff = (single_res.ended==True).idxmax()\n",
    "    cutoff_n = res.loc[(res.ended==True).idxmax(),\"n\"]\n",
    "    \n",
    "    if print_graphs:\n",
    "        d = pd.melt(res, id_vars=[\"n\"], value_vars=[\"hpdi_lower\",\"hpdi_upper\",\"true_prob_a\"])\n",
    "        fig = sns.lineplot(data=d, x=\"n\",y=\"value\", hue=\"variable\")\n",
    "        plt.axhline(0.5,linestyle='--', color=\"blue\")\n",
    "        plt.axvline(cutoff_n, linestyle=\"--\", color=\"red\")\n",
    "        plt.show()\n",
    "    return single_res\n",
    "\n",
    "def sim_many_experiments(n_exp: int, true_probs_a: List[float], \n",
    "                         desired_cert_list: List[float], n_resp: int =500, \n",
    "                         print_graphs=False, print_progress=False) -> pd.DataFrame:\n",
    "    params = list(product(true_probs_a,desired_cert_list,range(1,n_exp+1)))\n",
    "    progress_print(params, print_progress)\n",
    "    all_res = [None]*len(params)\n",
    "    progress_print(\"Running total of {} experiments.\".format(len(all_res)), print_progress)\n",
    "    i = 1\n",
    "    all_res = [run_single_exp(prob, cert, n, print_graphs, print_progress) for prob,cert,n in tqdm(params)]\n",
    "    return pd.concat(all_res)"
   ]
  },
  {
   "cell_type": "markdown",
   "metadata": {},
   "source": [
    "Now let us run our simulation for the parameter grid. Below you will see the defined parameters, and the setting of `max_n_resp`, describing maximum number of responses per experiment. The higher this number, the more chances our bayesian analysis has to break early and save on cost."
   ]
  },
  {
   "cell_type": "code",
   "execution_count": 213,
   "metadata": {
    "scrolled": true
   },
   "outputs": [
    {
     "name": "stderr",
     "output_type": "stream",
     "text": [
      "100%|██████████| 24000/24000 [50:01<00:00,  8.00it/s] \n"
     ]
    }
   ],
   "source": [
    "max_n_resp = 500\n",
    "test_output = False\n",
    "if test_output:\n",
    "    all_results = sim_many_experiments(2, true_probs_a=[0.55, 0.65], desired_cert_list=[0.8, 0.9], n_resp=max_n_resp)\n",
    "else:\n",
    "    all_results = sim_many_experiments(1000, true_probs_a=[0.52, 0.53, 0.54, 0.55, 0.60, 0.65], \n",
    "                                       desired_cert_list=[0.8, 0.9, 0.95, 0.99], n_resp=max_n_resp)"
   ]
  },
  {
   "cell_type": "code",
   "execution_count": 214,
   "metadata": {},
   "outputs": [
    {
     "data": {
      "text/html": [
       "<div>\n",
       "<style scoped>\n",
       "    .dataframe tbody tr th:only-of-type {\n",
       "        vertical-align: middle;\n",
       "    }\n",
       "\n",
       "    .dataframe tbody tr th {\n",
       "        vertical-align: top;\n",
       "    }\n",
       "\n",
       "    .dataframe thead th {\n",
       "        text-align: right;\n",
       "    }\n",
       "</style>\n",
       "<table border=\"1\" class=\"dataframe\">\n",
       "  <thead>\n",
       "    <tr style=\"text-align: right;\">\n",
       "      <th></th>\n",
       "      <th>hpdi_lower</th>\n",
       "      <th>hpdi_upper</th>\n",
       "      <th>n</th>\n",
       "      <th>percent_in_rope</th>\n",
       "      <th>conclusion</th>\n",
       "      <th>desired_certainty</th>\n",
       "      <th>true_prob_a</th>\n",
       "      <th>ended</th>\n",
       "      <th>stopping_reason</th>\n",
       "      <th>correct</th>\n",
       "      <th>exp_no</th>\n",
       "    </tr>\n",
       "  </thead>\n",
       "  <tbody>\n",
       "    <tr>\n",
       "      <th>0</th>\n",
       "      <td>0.322189</td>\n",
       "      <td>0.732686</td>\n",
       "      <td>1</td>\n",
       "      <td>0.230781</td>\n",
       "      <td>None</td>\n",
       "      <td>0.80</td>\n",
       "      <td>0.52</td>\n",
       "      <td>False</td>\n",
       "      <td>None</td>\n",
       "      <td>False</td>\n",
       "      <td>0.52_0.8_2</td>\n",
       "    </tr>\n",
       "    <tr>\n",
       "      <th>1</th>\n",
       "      <td>0.370159</td>\n",
       "      <td>0.601848</td>\n",
       "      <td>50</td>\n",
       "      <td>0.230781</td>\n",
       "      <td>None</td>\n",
       "      <td>0.80</td>\n",
       "      <td>0.52</td>\n",
       "      <td>False</td>\n",
       "      <td>None</td>\n",
       "      <td>False</td>\n",
       "      <td>0.52_0.8_2</td>\n",
       "    </tr>\n",
       "    <tr>\n",
       "      <th>2</th>\n",
       "      <td>0.415704</td>\n",
       "      <td>0.594750</td>\n",
       "      <td>100</td>\n",
       "      <td>0.230781</td>\n",
       "      <td>None</td>\n",
       "      <td>0.80</td>\n",
       "      <td>0.52</td>\n",
       "      <td>False</td>\n",
       "      <td>None</td>\n",
       "      <td>False</td>\n",
       "      <td>0.52_0.8_2</td>\n",
       "    </tr>\n",
       "    <tr>\n",
       "      <th>3</th>\n",
       "      <td>0.428309</td>\n",
       "      <td>0.579243</td>\n",
       "      <td>150</td>\n",
       "      <td>0.230781</td>\n",
       "      <td>None</td>\n",
       "      <td>0.80</td>\n",
       "      <td>0.52</td>\n",
       "      <td>False</td>\n",
       "      <td>None</td>\n",
       "      <td>False</td>\n",
       "      <td>0.52_0.8_2</td>\n",
       "    </tr>\n",
       "    <tr>\n",
       "      <th>4</th>\n",
       "      <td>0.448658</td>\n",
       "      <td>0.581653</td>\n",
       "      <td>200</td>\n",
       "      <td>0.230781</td>\n",
       "      <td>None</td>\n",
       "      <td>0.80</td>\n",
       "      <td>0.52</td>\n",
       "      <td>False</td>\n",
       "      <td>None</td>\n",
       "      <td>False</td>\n",
       "      <td>0.52_0.8_2</td>\n",
       "    </tr>\n",
       "    <tr>\n",
       "      <th>...</th>\n",
       "      <td>...</td>\n",
       "      <td>...</td>\n",
       "      <td>...</td>\n",
       "      <td>...</td>\n",
       "      <td>...</td>\n",
       "      <td>...</td>\n",
       "      <td>...</td>\n",
       "      <td>...</td>\n",
       "      <td>...</td>\n",
       "      <td>...</td>\n",
       "      <td>...</td>\n",
       "    </tr>\n",
       "    <tr>\n",
       "      <th>6</th>\n",
       "      <td>0.595800</td>\n",
       "      <td>0.701322</td>\n",
       "      <td>300</td>\n",
       "      <td>0.000000</td>\n",
       "      <td>A</td>\n",
       "      <td>0.99</td>\n",
       "      <td>0.65</td>\n",
       "      <td>True</td>\n",
       "      <td>bayes</td>\n",
       "      <td>True</td>\n",
       "      <td>0.65_0.99_1001</td>\n",
       "    </tr>\n",
       "    <tr>\n",
       "      <th>7</th>\n",
       "      <td>0.587560</td>\n",
       "      <td>0.686428</td>\n",
       "      <td>350</td>\n",
       "      <td>0.000000</td>\n",
       "      <td>A</td>\n",
       "      <td>0.99</td>\n",
       "      <td>0.65</td>\n",
       "      <td>True</td>\n",
       "      <td>bayes</td>\n",
       "      <td>True</td>\n",
       "      <td>0.65_0.99_1001</td>\n",
       "    </tr>\n",
       "    <tr>\n",
       "      <th>8</th>\n",
       "      <td>0.591327</td>\n",
       "      <td>0.684032</td>\n",
       "      <td>400</td>\n",
       "      <td>0.000000</td>\n",
       "      <td>A</td>\n",
       "      <td>0.99</td>\n",
       "      <td>0.65</td>\n",
       "      <td>True</td>\n",
       "      <td>bayes</td>\n",
       "      <td>True</td>\n",
       "      <td>0.65_0.99_1001</td>\n",
       "    </tr>\n",
       "    <tr>\n",
       "      <th>9</th>\n",
       "      <td>0.596613</td>\n",
       "      <td>0.684050</td>\n",
       "      <td>450</td>\n",
       "      <td>0.000000</td>\n",
       "      <td>A</td>\n",
       "      <td>0.99</td>\n",
       "      <td>0.65</td>\n",
       "      <td>True</td>\n",
       "      <td>bayes</td>\n",
       "      <td>True</td>\n",
       "      <td>0.65_0.99_1001</td>\n",
       "    </tr>\n",
       "    <tr>\n",
       "      <th>10</th>\n",
       "      <td>0.593036</td>\n",
       "      <td>0.676459</td>\n",
       "      <td>500</td>\n",
       "      <td>0.000000</td>\n",
       "      <td>A</td>\n",
       "      <td>0.99</td>\n",
       "      <td>0.65</td>\n",
       "      <td>True</td>\n",
       "      <td>bayes</td>\n",
       "      <td>True</td>\n",
       "      <td>0.65_0.99_1001</td>\n",
       "    </tr>\n",
       "  </tbody>\n",
       "</table>\n",
       "<p>264000 rows × 11 columns</p>\n",
       "</div>"
      ],
      "text/plain": [
       "    hpdi_lower  hpdi_upper    n  percent_in_rope conclusion  \\\n",
       "0     0.322189    0.732686    1         0.230781       None   \n",
       "1     0.370159    0.601848   50         0.230781       None   \n",
       "2     0.415704    0.594750  100         0.230781       None   \n",
       "3     0.428309    0.579243  150         0.230781       None   \n",
       "4     0.448658    0.581653  200         0.230781       None   \n",
       "..         ...         ...  ...              ...        ...   \n",
       "6     0.595800    0.701322  300         0.000000          A   \n",
       "7     0.587560    0.686428  350         0.000000          A   \n",
       "8     0.591327    0.684032  400         0.000000          A   \n",
       "9     0.596613    0.684050  450         0.000000          A   \n",
       "10    0.593036    0.676459  500         0.000000          A   \n",
       "\n",
       "    desired_certainty  true_prob_a  ended stopping_reason  correct  \\\n",
       "0                0.80         0.52  False            None    False   \n",
       "1                0.80         0.52  False            None    False   \n",
       "2                0.80         0.52  False            None    False   \n",
       "3                0.80         0.52  False            None    False   \n",
       "4                0.80         0.52  False            None    False   \n",
       "..                ...          ...    ...             ...      ...   \n",
       "6                0.99         0.65   True           bayes     True   \n",
       "7                0.99         0.65   True           bayes     True   \n",
       "8                0.99         0.65   True           bayes     True   \n",
       "9                0.99         0.65   True           bayes     True   \n",
       "10               0.99         0.65   True           bayes     True   \n",
       "\n",
       "            exp_no  \n",
       "0       0.52_0.8_2  \n",
       "1       0.52_0.8_2  \n",
       "2       0.52_0.8_2  \n",
       "3       0.52_0.8_2  \n",
       "4       0.52_0.8_2  \n",
       "..             ...  \n",
       "6   0.65_0.99_1001  \n",
       "7   0.65_0.99_1001  \n",
       "8   0.65_0.99_1001  \n",
       "9   0.65_0.99_1001  \n",
       "10  0.65_0.99_1001  \n",
       "\n",
       "[264000 rows x 11 columns]"
      ]
     },
     "execution_count": 214,
     "metadata": {},
     "output_type": "execute_result"
    }
   ],
   "source": [
    "all_results"
   ]
  },
  {
   "cell_type": "markdown",
   "metadata": {},
   "source": [
    "Make a DF that describes the result of each experiment at when it ended (whether due to bayesian cutoff or end of data)."
   ]
  },
  {
   "cell_type": "code",
   "execution_count": 215,
   "metadata": {},
   "outputs": [],
   "source": [
    "all_results.loc[all_results.stopping_reason==\"end_of_experiment\",\"conclusion\"] = \"uncertain\""
   ]
  },
  {
   "cell_type": "code",
   "execution_count": null,
   "metadata": {},
   "outputs": [],
   "source": []
  },
  {
   "cell_type": "code",
   "execution_count": 216,
   "metadata": {},
   "outputs": [],
   "source": [
    "cutoff_results = all_results[all_results[\"ended\"]==True].dropna(axis=0, how=\"any\").groupby(\"exp_no\").head(1)"
   ]
  },
  {
   "cell_type": "code",
   "execution_count": 217,
   "metadata": {},
   "outputs": [
    {
     "data": {
      "text/html": [
       "<div>\n",
       "<style scoped>\n",
       "    .dataframe tbody tr th:only-of-type {\n",
       "        vertical-align: middle;\n",
       "    }\n",
       "\n",
       "    .dataframe tbody tr th {\n",
       "        vertical-align: top;\n",
       "    }\n",
       "\n",
       "    .dataframe thead th {\n",
       "        text-align: right;\n",
       "    }\n",
       "</style>\n",
       "<table border=\"1\" class=\"dataframe\">\n",
       "  <thead>\n",
       "    <tr style=\"text-align: right;\">\n",
       "      <th></th>\n",
       "      <th>hpdi_lower</th>\n",
       "      <th>hpdi_upper</th>\n",
       "      <th>n</th>\n",
       "      <th>percent_in_rope</th>\n",
       "      <th>conclusion</th>\n",
       "      <th>desired_certainty</th>\n",
       "      <th>true_prob_a</th>\n",
       "      <th>ended</th>\n",
       "      <th>stopping_reason</th>\n",
       "      <th>correct</th>\n",
       "      <th>exp_no</th>\n",
       "    </tr>\n",
       "  </thead>\n",
       "  <tbody>\n",
       "    <tr>\n",
       "      <th>10</th>\n",
       "      <td>0.480517</td>\n",
       "      <td>0.567179</td>\n",
       "      <td>500</td>\n",
       "      <td>0.230781</td>\n",
       "      <td>uncertain</td>\n",
       "      <td>0.80</td>\n",
       "      <td>0.52</td>\n",
       "      <td>True</td>\n",
       "      <td>end_of_experiment</td>\n",
       "      <td>False</td>\n",
       "      <td>0.52_0.8_2</td>\n",
       "    </tr>\n",
       "    <tr>\n",
       "      <th>10</th>\n",
       "      <td>0.476741</td>\n",
       "      <td>0.563523</td>\n",
       "      <td>500</td>\n",
       "      <td>0.230464</td>\n",
       "      <td>uncertain</td>\n",
       "      <td>0.80</td>\n",
       "      <td>0.52</td>\n",
       "      <td>True</td>\n",
       "      <td>end_of_experiment</td>\n",
       "      <td>False</td>\n",
       "      <td>0.52_0.8_3</td>\n",
       "    </tr>\n",
       "    <tr>\n",
       "      <th>10</th>\n",
       "      <td>0.457433</td>\n",
       "      <td>0.544127</td>\n",
       "      <td>500</td>\n",
       "      <td>0.230695</td>\n",
       "      <td>uncertain</td>\n",
       "      <td>0.80</td>\n",
       "      <td>0.52</td>\n",
       "      <td>True</td>\n",
       "      <td>end_of_experiment</td>\n",
       "      <td>False</td>\n",
       "      <td>0.52_0.8_4</td>\n",
       "    </tr>\n",
       "    <tr>\n",
       "      <th>10</th>\n",
       "      <td>0.452812</td>\n",
       "      <td>0.539512</td>\n",
       "      <td>500</td>\n",
       "      <td>0.230680</td>\n",
       "      <td>uncertain</td>\n",
       "      <td>0.80</td>\n",
       "      <td>0.52</td>\n",
       "      <td>True</td>\n",
       "      <td>end_of_experiment</td>\n",
       "      <td>False</td>\n",
       "      <td>0.52_0.8_5</td>\n",
       "    </tr>\n",
       "    <tr>\n",
       "      <th>10</th>\n",
       "      <td>0.447237</td>\n",
       "      <td>0.533660</td>\n",
       "      <td>500</td>\n",
       "      <td>0.231418</td>\n",
       "      <td>uncertain</td>\n",
       "      <td>0.80</td>\n",
       "      <td>0.52</td>\n",
       "      <td>True</td>\n",
       "      <td>end_of_experiment</td>\n",
       "      <td>False</td>\n",
       "      <td>0.52_0.8_6</td>\n",
       "    </tr>\n",
       "    <tr>\n",
       "      <th>...</th>\n",
       "      <td>...</td>\n",
       "      <td>...</td>\n",
       "      <td>...</td>\n",
       "      <td>...</td>\n",
       "      <td>...</td>\n",
       "      <td>...</td>\n",
       "      <td>...</td>\n",
       "      <td>...</td>\n",
       "      <td>...</td>\n",
       "      <td>...</td>\n",
       "      <td>...</td>\n",
       "    </tr>\n",
       "    <tr>\n",
       "      <th>2</th>\n",
       "      <td>0.515391</td>\n",
       "      <td>0.690877</td>\n",
       "      <td>100</td>\n",
       "      <td>0.000000</td>\n",
       "      <td>A</td>\n",
       "      <td>0.99</td>\n",
       "      <td>0.65</td>\n",
       "      <td>True</td>\n",
       "      <td>bayes</td>\n",
       "      <td>True</td>\n",
       "      <td>0.65_0.99_997</td>\n",
       "    </tr>\n",
       "    <tr>\n",
       "      <th>2</th>\n",
       "      <td>0.548221</td>\n",
       "      <td>0.720304</td>\n",
       "      <td>100</td>\n",
       "      <td>0.000000</td>\n",
       "      <td>A</td>\n",
       "      <td>0.99</td>\n",
       "      <td>0.65</td>\n",
       "      <td>True</td>\n",
       "      <td>bayes</td>\n",
       "      <td>True</td>\n",
       "      <td>0.65_0.99_998</td>\n",
       "    </tr>\n",
       "    <tr>\n",
       "      <th>4</th>\n",
       "      <td>0.518349</td>\n",
       "      <td>0.649751</td>\n",
       "      <td>200</td>\n",
       "      <td>0.000000</td>\n",
       "      <td>A</td>\n",
       "      <td>0.99</td>\n",
       "      <td>0.65</td>\n",
       "      <td>True</td>\n",
       "      <td>bayes</td>\n",
       "      <td>True</td>\n",
       "      <td>0.65_0.99_999</td>\n",
       "    </tr>\n",
       "    <tr>\n",
       "      <th>2</th>\n",
       "      <td>0.548221</td>\n",
       "      <td>0.720304</td>\n",
       "      <td>100</td>\n",
       "      <td>0.000000</td>\n",
       "      <td>A</td>\n",
       "      <td>0.99</td>\n",
       "      <td>0.65</td>\n",
       "      <td>True</td>\n",
       "      <td>bayes</td>\n",
       "      <td>True</td>\n",
       "      <td>0.65_0.99_1000</td>\n",
       "    </tr>\n",
       "    <tr>\n",
       "      <th>2</th>\n",
       "      <td>0.565578</td>\n",
       "      <td>0.735672</td>\n",
       "      <td>100</td>\n",
       "      <td>0.000000</td>\n",
       "      <td>A</td>\n",
       "      <td>0.99</td>\n",
       "      <td>0.65</td>\n",
       "      <td>True</td>\n",
       "      <td>bayes</td>\n",
       "      <td>True</td>\n",
       "      <td>0.65_0.99_1001</td>\n",
       "    </tr>\n",
       "  </tbody>\n",
       "</table>\n",
       "<p>24000 rows × 11 columns</p>\n",
       "</div>"
      ],
      "text/plain": [
       "    hpdi_lower  hpdi_upper    n  percent_in_rope conclusion  \\\n",
       "10    0.480517    0.567179  500         0.230781  uncertain   \n",
       "10    0.476741    0.563523  500         0.230464  uncertain   \n",
       "10    0.457433    0.544127  500         0.230695  uncertain   \n",
       "10    0.452812    0.539512  500         0.230680  uncertain   \n",
       "10    0.447237    0.533660  500         0.231418  uncertain   \n",
       "..         ...         ...  ...              ...        ...   \n",
       "2     0.515391    0.690877  100         0.000000          A   \n",
       "2     0.548221    0.720304  100         0.000000          A   \n",
       "4     0.518349    0.649751  200         0.000000          A   \n",
       "2     0.548221    0.720304  100         0.000000          A   \n",
       "2     0.565578    0.735672  100         0.000000          A   \n",
       "\n",
       "    desired_certainty  true_prob_a  ended    stopping_reason  correct  \\\n",
       "10               0.80         0.52   True  end_of_experiment    False   \n",
       "10               0.80         0.52   True  end_of_experiment    False   \n",
       "10               0.80         0.52   True  end_of_experiment    False   \n",
       "10               0.80         0.52   True  end_of_experiment    False   \n",
       "10               0.80         0.52   True  end_of_experiment    False   \n",
       "..                ...          ...    ...                ...      ...   \n",
       "2                0.99         0.65   True              bayes     True   \n",
       "2                0.99         0.65   True              bayes     True   \n",
       "4                0.99         0.65   True              bayes     True   \n",
       "2                0.99         0.65   True              bayes     True   \n",
       "2                0.99         0.65   True              bayes     True   \n",
       "\n",
       "            exp_no  \n",
       "10      0.52_0.8_2  \n",
       "10      0.52_0.8_3  \n",
       "10      0.52_0.8_4  \n",
       "10      0.52_0.8_5  \n",
       "10      0.52_0.8_6  \n",
       "..             ...  \n",
       "2    0.65_0.99_997  \n",
       "2    0.65_0.99_998  \n",
       "4    0.65_0.99_999  \n",
       "2   0.65_0.99_1000  \n",
       "2   0.65_0.99_1001  \n",
       "\n",
       "[24000 rows x 11 columns]"
      ]
     },
     "execution_count": 217,
     "metadata": {},
     "output_type": "execute_result"
    }
   ],
   "source": [
    "cutoff_results"
   ]
  },
  {
   "cell_type": "code",
   "execution_count": 218,
   "metadata": {},
   "outputs": [
    {
     "data": {
      "text/plain": [
       "desired_certainty  true_prob_a  conclusion\n",
       "0.80               0.52         uncertain      825\n",
       "                                A              169\n",
       "                                B                6\n",
       "                   0.53         uncertain      677\n",
       "                                A              322\n",
       "                                B                1\n",
       "                   0.54         uncertain      579\n",
       "                                A              418\n",
       "                                B                3\n",
       "                   0.55         A              565\n",
       "                                uncertain      435\n",
       "                   0.60         A              992\n",
       "                                uncertain        8\n",
       "                   0.65         A             1000\n",
       "0.90               0.52         uncertain      829\n",
       "                                A              166\n",
       "                                B                5\n",
       "                   0.53         uncertain      693\n",
       "                                A              307\n",
       "                   0.54         uncertain      593\n",
       "                                A              403\n",
       "                                B                4\n",
       "                   0.55         A              585\n",
       "                                uncertain      414\n",
       "                                B                1\n",
       "                   0.60         A              995\n",
       "                                uncertain        5\n",
       "                   0.65         A             1000\n",
       "0.95               0.52         uncertain      827\n",
       "                                A              167\n",
       "                                B                6\n",
       "                   0.53         uncertain      732\n",
       "                                A              262\n",
       "                                B                6\n",
       "                   0.54         uncertain      558\n",
       "                                A              442\n",
       "                   0.55         A              593\n",
       "                                uncertain      405\n",
       "                                B                2\n",
       "                   0.60         A              988\n",
       "                                uncertain       12\n",
       "                   0.65         A             1000\n",
       "0.99               0.52         uncertain      808\n",
       "                                A              187\n",
       "                                B                5\n",
       "                   0.53         uncertain      717\n",
       "                                A              277\n",
       "                                B                6\n",
       "                   0.54         uncertain      566\n",
       "                                A              433\n",
       "                                B                1\n",
       "                   0.55         A              579\n",
       "                                uncertain      421\n",
       "                   0.60         A              993\n",
       "                                uncertain        7\n",
       "                   0.65         A             1000\n",
       "Name: conclusion, dtype: int64"
      ]
     },
     "execution_count": 218,
     "metadata": {},
     "output_type": "execute_result"
    }
   ],
   "source": [
    "cutoff_results.groupby([\"desired_certainty\",\"true_prob_a\"])[\"conclusion\"].value_counts(dropna=False)"
   ]
  },
  {
   "cell_type": "code",
   "execution_count": 219,
   "metadata": {},
   "outputs": [],
   "source": [
    "del all_results"
   ]
  },
  {
   "cell_type": "code",
   "execution_count": 220,
   "metadata": {},
   "outputs": [
    {
     "data": {},
     "metadata": {},
     "output_type": "display_data"
    },
    {
     "data": {
      "application/vnd.holoviews_exec.v0+json": "",
      "text/html": [
       "<div id='34030'>\n",
       "\n",
       "\n",
       "\n",
       "\n",
       "\n",
       "  <div class=\"bk-root\" id=\"6b644a69-5190-42af-96e4-536c004c7927\" data-root-id=\"34030\"></div>\n",
       "</div>\n",
       "<script type=\"application/javascript\">(function(root) {\n",
       "  function embed_document(root) {\n",
       "    var docs_json = {\"512b9c1c-eb25-45f8-b525-56bf47e59bec\":{\"defs\":[],\"roots\":{\"references\":[{\"attributes\":{\"children\":[{\"id\":\"34031\"},{\"id\":\"34035\"},{\"id\":\"34112\"}],\"margin\":[0,0,0,0],\"name\":\"Row53627\",\"tags\":[\"embedded\"]},\"id\":\"34030\",\"type\":\"Row\"},{\"attributes\":{\"margin\":[5,5,5,5],\"name\":\"HSpacer53631\",\"sizing_mode\":\"stretch_width\"},\"id\":\"34031\",\"type\":\"Spacer\"},{\"attributes\":{\"end\":1000.0,\"reset_end\":1000.0,\"reset_start\":0.0,\"tags\":[[[\"value\",\"value\",null]]]},\"id\":\"34033\",\"type\":\"Range1d\"},{\"attributes\":{},\"id\":\"34045\",\"type\":\"CategoricalTicker\"},{\"attributes\":{\"bottom\":{\"field\":\"bottom\"},\"fill_alpha\":{\"value\":0.2},\"fill_color\":{\"field\":\"Variable\",\"transform\":{\"id\":\"34064\"}},\"line_alpha\":{\"value\":0.2},\"top\":{\"field\":\"top\"},\"width\":{\"value\":0.8},\"x\":{\"field\":\"true_prob_a\"}},\"id\":\"34070\",\"type\":\"VBar\"},{\"attributes\":{\"overlay\":{\"id\":\"34056\"}},\"id\":\"34054\",\"type\":\"BoxZoomTool\"},{\"attributes\":{\"factors\":[\"A\",\"B\",\"uncertain\"],\"palette\":[\"#30a2da\",\"#fc4f30\",\"#e5ae38\"]},\"id\":\"34064\",\"type\":\"CategoricalColorMapper\"},{\"attributes\":{},\"id\":\"34074\",\"type\":\"AllLabels\"},{\"attributes\":{\"callback\":null,\"renderers\":[{\"id\":\"34071\"}],\"tags\":[\"hv_created\"],\"tooltips\":[[\"true_prob_a\",\"@{true_prob_a}\"],[\"Variable\",\"@{Variable}\"],[\"value\",\"@{value}\"]]},\"id\":\"34034\",\"type\":\"HoverTool\"},{\"attributes\":{\"items\":[{\"id\":\"34084\"}],\"location\":[0,0]},\"id\":\"34083\",\"type\":\"Legend\"},{\"attributes\":{\"bottom\":{\"field\":\"bottom\"},\"fill_alpha\":{\"value\":1.0},\"fill_color\":{\"field\":\"Variable\",\"transform\":{\"id\":\"34064\"}},\"hatch_alpha\":{\"value\":1.0},\"hatch_color\":{\"value\":\"black\"},\"hatch_scale\":{\"value\":12.0},\"hatch_weight\":{\"value\":1.0},\"line_alpha\":{\"value\":1.0},\"line_cap\":{\"value\":\"butt\"},\"line_color\":{\"value\":\"black\"},\"line_dash\":{\"value\":[]},\"line_dash_offset\":{\"value\":0},\"line_join\":{\"value\":\"bevel\"},\"line_width\":{\"value\":1},\"top\":{\"field\":\"top\"},\"width\":{\"value\":0.8},\"x\":{\"field\":\"true_prob_a\"}},\"id\":\"34085\",\"type\":\"VBar\"},{\"attributes\":{},\"id\":\"34078\",\"type\":\"BasicTickFormatter\"},{\"attributes\":{},\"id\":\"34042\",\"type\":\"LinearScale\"},{\"attributes\":{},\"id\":\"34052\",\"type\":\"PanTool\"},{\"attributes\":{},\"id\":\"34053\",\"type\":\"WheelZoomTool\"},{\"attributes\":{\"data\":{\"Variable\":[\"A\",\"A\",\"A\",\"A\",\"A\",\"A\",\"B\",\"B\",\"B\",\"uncertain\",\"uncertain\",\"uncertain\",\"uncertain\",\"uncertain\"],\"bottom\":{\"__ndarray__\":\"AAAAAAAAAAAAAAAAAAAAAAAAAAAAAAAAAAAAAAAAAAAAAAAAAAAAAAAAAAAAAAAAAAAAAAAgZUAAAAAAACB0QAAAAAAAIHpAAAAAAADgZUAAAAAAADB0QAAAAAAAUHpAAAAAAACogUAAAAAAAACPQA==\",\"dtype\":\"float64\",\"order\":\"little\",\"shape\":[14]},\"top\":{\"__ndarray__\":\"AAAAAAAgZUAAAAAAACB0QAAAAAAAIHpAAAAAAACogUAAAAAAAACPQAAAAAAAQI9AAAAAAADgZUAAAAAAADB0QAAAAAAAUHpAAAAAAABAj0AAAAAAAECPQAAAAAAAQI9AAAAAAABAj0AAAAAAAECPQA==\",\"dtype\":\"float64\",\"order\":\"little\",\"shape\":[14]},\"true_prob_a\":[\"0.52\",\"0.53\",\"0.54\",\"0.55\",\"0.6\",\"0.65\",\"0.52\",\"0.53\",\"0.54\",\"0.52\",\"0.53\",\"0.54\",\"0.55\",\"0.6\"],\"value\":{\"__ndarray__\":\"AAAAAAAgZUAAAAAAACB0QAAAAAAAIHpAAAAAAACogUAAAAAAAACPQAAAAAAAQI9AAAAAAAAAGEAAAAAAAADwPwAAAAAAAAhAAAAAAADIiUAAAAAAACiFQAAAAAAAGIJAAAAAAAAwe0AAAAAAAAAgQA==\",\"dtype\":\"float64\",\"order\":\"little\",\"shape\":[14]}},\"selected\":{\"id\":\"34066\"},\"selection_policy\":{\"id\":\"34081\"}},\"id\":\"34065\",\"type\":\"ColumnDataSource\"},{\"attributes\":{\"bottom\":{\"field\":\"bottom\"},\"fill_color\":{\"field\":\"Variable\",\"transform\":{\"id\":\"34064\"}},\"top\":{\"field\":\"top\"},\"width\":{\"value\":0.8},\"x\":{\"field\":\"true_prob_a\"}},\"id\":\"34068\",\"type\":\"VBar\"},{\"attributes\":{\"axis\":{\"id\":\"34044\"},\"grid_line_color\":null,\"ticker\":null},\"id\":\"34046\",\"type\":\"Grid\"},{\"attributes\":{\"bottom_units\":\"screen\",\"fill_alpha\":0.5,\"fill_color\":\"lightgrey\",\"left_units\":\"screen\",\"level\":\"overlay\",\"line_alpha\":1.0,\"line_color\":\"black\",\"line_dash\":[4,4],\"line_width\":2,\"right_units\":\"screen\",\"syncable\":false,\"top_units\":\"screen\"},\"id\":\"34056\",\"type\":\"BoxAnnotation\"},{\"attributes\":{},\"id\":\"34077\",\"type\":\"AllLabels\"},{\"attributes\":{},\"id\":\"34055\",\"type\":\"ResetTool\"},{\"attributes\":{},\"id\":\"34040\",\"type\":\"CategoricalScale\"},{\"attributes\":{\"below\":[{\"id\":\"34044\"}],\"center\":[{\"id\":\"34046\"},{\"id\":\"34050\"},{\"id\":\"34083\"}],\"height\":300,\"left\":[{\"id\":\"34047\"}],\"margin\":[5,5,5,5],\"min_border_bottom\":10,\"min_border_left\":10,\"min_border_right\":10,\"min_border_top\":10,\"renderers\":[{\"id\":\"34071\"}],\"right\":[{\"id\":\"34083\"}],\"sizing_mode\":\"fixed\",\"title\":{\"id\":\"34036\"},\"toolbar\":{\"id\":\"34057\"},\"width\":700,\"x_range\":{\"id\":\"34032\"},\"x_scale\":{\"id\":\"34040\"},\"y_range\":{\"id\":\"34033\"},\"y_scale\":{\"id\":\"34042\"}},\"id\":\"34035\",\"subtype\":\"Figure\",\"type\":\"Plot\"},{\"attributes\":{\"axis_label\":\"\",\"formatter\":{\"id\":\"34078\"},\"major_label_policy\":{\"id\":\"34077\"},\"ticker\":{\"id\":\"34048\"}},\"id\":\"34047\",\"type\":\"LinearAxis\"},{\"attributes\":{\"bottom\":{\"field\":\"bottom\"},\"fill_alpha\":{\"value\":0.1},\"fill_color\":{\"field\":\"Variable\",\"transform\":{\"id\":\"34064\"}},\"line_alpha\":{\"value\":0.1},\"top\":{\"field\":\"top\"},\"width\":{\"value\":0.8},\"x\":{\"field\":\"true_prob_a\"}},\"id\":\"34069\",\"type\":\"VBar\"},{\"attributes\":{\"source\":{\"id\":\"34065\"}},\"id\":\"34072\",\"type\":\"CDSView\"},{\"attributes\":{\"label\":{\"field\":\"Variable\"},\"renderers\":[{\"id\":\"34071\"}]},\"id\":\"34084\",\"type\":\"LegendItem\"},{\"attributes\":{\"axis_label\":\"true_prob_a\",\"formatter\":{\"id\":\"34075\"},\"major_label_orientation\":1.5707963267948966,\"major_label_policy\":{\"id\":\"34074\"},\"ticker\":{\"id\":\"34045\"}},\"id\":\"34044\",\"type\":\"CategoricalAxis\"},{\"attributes\":{},\"id\":\"34081\",\"type\":\"UnionRenderers\"},{\"attributes\":{\"factors\":[\"0.52\",\"0.53\",\"0.54\",\"0.55\",\"0.6\",\"0.65\"],\"tags\":[[[\"true_prob_a\",\"true_prob_a\",null]]]},\"id\":\"34032\",\"type\":\"FactorRange\"},{\"attributes\":{},\"id\":\"34048\",\"type\":\"BasicTicker\"},{\"attributes\":{\"active_multi\":null,\"tools\":[{\"id\":\"34034\"},{\"id\":\"34051\"},{\"id\":\"34052\"},{\"id\":\"34053\"},{\"id\":\"34054\"},{\"id\":\"34055\"}]},\"id\":\"34057\",\"type\":\"Toolbar\"},{\"attributes\":{\"margin\":[5,5,5,5],\"name\":\"HSpacer53632\",\"sizing_mode\":\"stretch_width\"},\"id\":\"34112\",\"type\":\"Spacer\"},{\"attributes\":{\"data_source\":{\"id\":\"34065\"},\"glyph\":{\"id\":\"34068\"},\"hover_glyph\":null,\"muted_glyph\":{\"id\":\"34070\"},\"nonselection_glyph\":{\"id\":\"34069\"},\"selection_glyph\":{\"id\":\"34085\"},\"view\":{\"id\":\"34072\"}},\"id\":\"34071\",\"type\":\"GlyphRenderer\"},{\"attributes\":{},\"id\":\"34075\",\"type\":\"CategoricalTickFormatter\"},{\"attributes\":{},\"id\":\"34066\",\"type\":\"Selection\"},{\"attributes\":{},\"id\":\"34051\",\"type\":\"SaveTool\"},{\"attributes\":{\"axis\":{\"id\":\"34047\"},\"dimension\":1,\"grid_line_color\":null,\"ticker\":null},\"id\":\"34050\",\"type\":\"Grid\"},{\"attributes\":{\"text\":\"Certainty: 0.8\",\"text_color\":\"black\",\"text_font_size\":\"12pt\"},\"id\":\"34036\",\"type\":\"Title\"}],\"root_ids\":[\"34030\"]},\"title\":\"Bokeh Application\",\"version\":\"2.3.2\"}};\n",
       "    var render_items = [{\"docid\":\"512b9c1c-eb25-45f8-b525-56bf47e59bec\",\"root_ids\":[\"34030\"],\"roots\":{\"34030\":\"6b644a69-5190-42af-96e4-536c004c7927\"}}];\n",
       "    root.Bokeh.embed.embed_items_notebook(docs_json, render_items);\n",
       "  }\n",
       "  if (root.Bokeh !== undefined && root.Bokeh.Panel !== undefined) {\n",
       "    embed_document(root);\n",
       "  } else {\n",
       "    var attempts = 0;\n",
       "    var timer = setInterval(function(root) {\n",
       "      if (root.Bokeh !== undefined && root.Bokeh.Panel !== undefined) {\n",
       "        clearInterval(timer);\n",
       "        embed_document(root);\n",
       "      } else if (document.readyState == \"complete\") {\n",
       "        attempts++;\n",
       "        if (attempts > 100) {\n",
       "          clearInterval(timer);\n",
       "          console.log(\"Bokeh: ERROR: Unable to run BokehJS code because BokehJS library is missing\");\n",
       "        }\n",
       "      }\n",
       "    }, 10, root)\n",
       "  }\n",
       "})(window);</script>"
      ],
      "text/plain": [
       ":Bars   [true_prob_a,Variable]   (value)"
      ]
     },
     "metadata": {
      "application/vnd.holoviews_exec.v0+json": {
       "id": "34030"
      }
     },
     "output_type": "display_data"
    },
    {
     "data": {},
     "metadata": {},
     "output_type": "display_data"
    },
    {
     "data": {
      "application/vnd.holoviews_exec.v0+json": "",
      "text/html": [
       "<div id='34164'>\n",
       "\n",
       "\n",
       "\n",
       "\n",
       "\n",
       "  <div class=\"bk-root\" id=\"9d793e2e-dd35-484a-bf79-d26c70f28655\" data-root-id=\"34164\"></div>\n",
       "</div>\n",
       "<script type=\"application/javascript\">(function(root) {\n",
       "  function embed_document(root) {\n",
       "    var docs_json = {\"b6afd553-caaf-4af4-9177-3021ae595c51\":{\"defs\":[],\"roots\":{\"references\":[{\"attributes\":{},\"id\":\"34189\",\"type\":\"ResetTool\"},{\"attributes\":{\"factors\":[\"0.52\",\"0.53\",\"0.54\",\"0.55\",\"0.6\",\"0.65\"],\"tags\":[[[\"true_prob_a\",\"true_prob_a\",null]]]},\"id\":\"34166\",\"type\":\"FactorRange\"},{\"attributes\":{},\"id\":\"34182\",\"type\":\"BasicTicker\"},{\"attributes\":{\"factors\":[\"A\",\"B\",\"uncertain\"],\"palette\":[\"#30a2da\",\"#fc4f30\",\"#e5ae38\"]},\"id\":\"34198\",\"type\":\"CategoricalColorMapper\"},{\"attributes\":{\"items\":[{\"id\":\"34218\"}],\"location\":[0,0]},\"id\":\"34217\",\"type\":\"Legend\"},{\"attributes\":{\"below\":[{\"id\":\"34178\"}],\"center\":[{\"id\":\"34180\"},{\"id\":\"34184\"},{\"id\":\"34217\"}],\"height\":300,\"left\":[{\"id\":\"34181\"}],\"margin\":[5,5,5,5],\"min_border_bottom\":10,\"min_border_left\":10,\"min_border_right\":10,\"min_border_top\":10,\"renderers\":[{\"id\":\"34205\"}],\"right\":[{\"id\":\"34217\"}],\"sizing_mode\":\"fixed\",\"title\":{\"id\":\"34170\"},\"toolbar\":{\"id\":\"34191\"},\"width\":700,\"x_range\":{\"id\":\"34166\"},\"x_scale\":{\"id\":\"34174\"},\"y_range\":{\"id\":\"34167\"},\"y_scale\":{\"id\":\"34176\"}},\"id\":\"34169\",\"subtype\":\"Figure\",\"type\":\"Plot\"},{\"attributes\":{\"axis\":{\"id\":\"34181\"},\"dimension\":1,\"grid_line_color\":null,\"ticker\":null},\"id\":\"34184\",\"type\":\"Grid\"},{\"attributes\":{\"bottom\":{\"field\":\"bottom\"},\"fill_alpha\":{\"value\":0.2},\"fill_color\":{\"field\":\"Variable\",\"transform\":{\"id\":\"34198\"}},\"line_alpha\":{\"value\":0.2},\"top\":{\"field\":\"top\"},\"width\":{\"value\":0.8},\"x\":{\"field\":\"true_prob_a\"}},\"id\":\"34204\",\"type\":\"VBar\"},{\"attributes\":{},\"id\":\"34179\",\"type\":\"CategoricalTicker\"},{\"attributes\":{},\"id\":\"34174\",\"type\":\"CategoricalScale\"},{\"attributes\":{},\"id\":\"34176\",\"type\":\"LinearScale\"},{\"attributes\":{\"overlay\":{\"id\":\"34190\"}},\"id\":\"34188\",\"type\":\"BoxZoomTool\"},{\"attributes\":{},\"id\":\"34186\",\"type\":\"PanTool\"},{\"attributes\":{\"data\":{\"Variable\":[\"A\",\"A\",\"A\",\"A\",\"A\",\"A\",\"B\",\"B\",\"B\",\"uncertain\",\"uncertain\",\"uncertain\",\"uncertain\",\"uncertain\"],\"bottom\":{\"__ndarray__\":\"AAAAAAAAAAAAAAAAAAAAAAAAAAAAAAAAAAAAAAAAAAAAAAAAAAAAAAAAAAAAAAAAAAAAAADAZEAAAAAAADB5QAAAAAAASIJAAAAAAABgZUAAAAAAADBzQAAAAAAAcHlAAAAAAABQgkAAAAAAABiPQA==\",\"dtype\":\"float64\",\"order\":\"little\",\"shape\":[14]},\"top\":{\"__ndarray__\":\"AAAAAADAZEAAAAAAADBzQAAAAAAAMHlAAAAAAABIgkAAAAAAABiPQAAAAAAAQI9AAAAAAABgZUAAAAAAAHB5QAAAAAAAUIJAAAAAAABAj0AAAAAAAECPQAAAAAAAQI9AAAAAAABAj0AAAAAAAECPQA==\",\"dtype\":\"float64\",\"order\":\"little\",\"shape\":[14]},\"true_prob_a\":[\"0.52\",\"0.53\",\"0.54\",\"0.55\",\"0.6\",\"0.65\",\"0.52\",\"0.54\",\"0.55\",\"0.52\",\"0.53\",\"0.54\",\"0.55\",\"0.6\"],\"value\":{\"__ndarray__\":\"AAAAAADAZEAAAAAAADBzQAAAAAAAMHlAAAAAAABIgkAAAAAAABiPQAAAAAAAQI9AAAAAAAAAFEAAAAAAAAAQQAAAAAAAAPA/AAAAAADoiUAAAAAAAKiFQAAAAAAAiIJAAAAAAADgeUAAAAAAAAAUQA==\",\"dtype\":\"float64\",\"order\":\"little\",\"shape\":[14]}},\"selected\":{\"id\":\"34200\"},\"selection_policy\":{\"id\":\"34215\"}},\"id\":\"34199\",\"type\":\"ColumnDataSource\"},{\"attributes\":{},\"id\":\"34185\",\"type\":\"SaveTool\"},{\"attributes\":{\"data_source\":{\"id\":\"34199\"},\"glyph\":{\"id\":\"34202\"},\"hover_glyph\":null,\"muted_glyph\":{\"id\":\"34204\"},\"nonselection_glyph\":{\"id\":\"34203\"},\"selection_glyph\":{\"id\":\"34219\"},\"view\":{\"id\":\"34206\"}},\"id\":\"34205\",\"type\":\"GlyphRenderer\"},{\"attributes\":{\"label\":{\"field\":\"Variable\"},\"renderers\":[{\"id\":\"34205\"}]},\"id\":\"34218\",\"type\":\"LegendItem\"},{\"attributes\":{},\"id\":\"34200\",\"type\":\"Selection\"},{\"attributes\":{},\"id\":\"34215\",\"type\":\"UnionRenderers\"},{\"attributes\":{\"text\":\"Certainty: 0.9\",\"text_color\":\"black\",\"text_font_size\":\"12pt\"},\"id\":\"34170\",\"type\":\"Title\"},{\"attributes\":{\"source\":{\"id\":\"34199\"}},\"id\":\"34206\",\"type\":\"CDSView\"},{\"attributes\":{\"bottom_units\":\"screen\",\"fill_alpha\":0.5,\"fill_color\":\"lightgrey\",\"left_units\":\"screen\",\"level\":\"overlay\",\"line_alpha\":1.0,\"line_color\":\"black\",\"line_dash\":[4,4],\"line_width\":2,\"right_units\":\"screen\",\"syncable\":false,\"top_units\":\"screen\"},\"id\":\"34190\",\"type\":\"BoxAnnotation\"},{\"attributes\":{},\"id\":\"34187\",\"type\":\"WheelZoomTool\"},{\"attributes\":{\"active_multi\":null,\"tools\":[{\"id\":\"34168\"},{\"id\":\"34185\"},{\"id\":\"34186\"},{\"id\":\"34187\"},{\"id\":\"34188\"},{\"id\":\"34189\"}]},\"id\":\"34191\",\"type\":\"Toolbar\"},{\"attributes\":{\"bottom\":{\"field\":\"bottom\"},\"fill_alpha\":{\"value\":1.0},\"fill_color\":{\"field\":\"Variable\",\"transform\":{\"id\":\"34198\"}},\"hatch_alpha\":{\"value\":1.0},\"hatch_color\":{\"value\":\"black\"},\"hatch_scale\":{\"value\":12.0},\"hatch_weight\":{\"value\":1.0},\"line_alpha\":{\"value\":1.0},\"line_cap\":{\"value\":\"butt\"},\"line_color\":{\"value\":\"black\"},\"line_dash\":{\"value\":[]},\"line_dash_offset\":{\"value\":0},\"line_join\":{\"value\":\"bevel\"},\"line_width\":{\"value\":1},\"top\":{\"field\":\"top\"},\"width\":{\"value\":0.8},\"x\":{\"field\":\"true_prob_a\"}},\"id\":\"34219\",\"type\":\"VBar\"},{\"attributes\":{},\"id\":\"34209\",\"type\":\"CategoricalTickFormatter\"},{\"attributes\":{\"end\":1000.0,\"reset_end\":1000.0,\"reset_start\":0.0,\"tags\":[[[\"value\",\"value\",null]]]},\"id\":\"34167\",\"type\":\"Range1d\"},{\"attributes\":{\"callback\":null,\"renderers\":[{\"id\":\"34205\"}],\"tags\":[\"hv_created\"],\"tooltips\":[[\"true_prob_a\",\"@{true_prob_a}\"],[\"Variable\",\"@{Variable}\"],[\"value\",\"@{value}\"]]},\"id\":\"34168\",\"type\":\"HoverTool\"},{\"attributes\":{\"axis_label\":\"\",\"formatter\":{\"id\":\"34212\"},\"major_label_policy\":{\"id\":\"34211\"},\"ticker\":{\"id\":\"34182\"}},\"id\":\"34181\",\"type\":\"LinearAxis\"},{\"attributes\":{\"axis_label\":\"true_prob_a\",\"formatter\":{\"id\":\"34209\"},\"major_label_orientation\":1.5707963267948966,\"major_label_policy\":{\"id\":\"34208\"},\"ticker\":{\"id\":\"34179\"}},\"id\":\"34178\",\"type\":\"CategoricalAxis\"},{\"attributes\":{\"bottom\":{\"field\":\"bottom\"},\"fill_color\":{\"field\":\"Variable\",\"transform\":{\"id\":\"34198\"}},\"top\":{\"field\":\"top\"},\"width\":{\"value\":0.8},\"x\":{\"field\":\"true_prob_a\"}},\"id\":\"34202\",\"type\":\"VBar\"},{\"attributes\":{\"bottom\":{\"field\":\"bottom\"},\"fill_alpha\":{\"value\":0.1},\"fill_color\":{\"field\":\"Variable\",\"transform\":{\"id\":\"34198\"}},\"line_alpha\":{\"value\":0.1},\"top\":{\"field\":\"top\"},\"width\":{\"value\":0.8},\"x\":{\"field\":\"true_prob_a\"}},\"id\":\"34203\",\"type\":\"VBar\"},{\"attributes\":{},\"id\":\"34208\",\"type\":\"AllLabels\"},{\"attributes\":{\"margin\":[5,5,5,5],\"name\":\"HSpacer53880\",\"sizing_mode\":\"stretch_width\"},\"id\":\"34165\",\"type\":\"Spacer\"},{\"attributes\":{\"axis\":{\"id\":\"34178\"},\"grid_line_color\":null,\"ticker\":null},\"id\":\"34180\",\"type\":\"Grid\"},{\"attributes\":{\"margin\":[5,5,5,5],\"name\":\"HSpacer53881\",\"sizing_mode\":\"stretch_width\"},\"id\":\"34246\",\"type\":\"Spacer\"},{\"attributes\":{\"children\":[{\"id\":\"34165\"},{\"id\":\"34169\"},{\"id\":\"34246\"}],\"margin\":[0,0,0,0],\"name\":\"Row53876\",\"tags\":[\"embedded\"]},\"id\":\"34164\",\"type\":\"Row\"},{\"attributes\":{},\"id\":\"34211\",\"type\":\"AllLabels\"},{\"attributes\":{},\"id\":\"34212\",\"type\":\"BasicTickFormatter\"}],\"root_ids\":[\"34164\"]},\"title\":\"Bokeh Application\",\"version\":\"2.3.2\"}};\n",
       "    var render_items = [{\"docid\":\"b6afd553-caaf-4af4-9177-3021ae595c51\",\"root_ids\":[\"34164\"],\"roots\":{\"34164\":\"9d793e2e-dd35-484a-bf79-d26c70f28655\"}}];\n",
       "    root.Bokeh.embed.embed_items_notebook(docs_json, render_items);\n",
       "  }\n",
       "  if (root.Bokeh !== undefined && root.Bokeh.Panel !== undefined) {\n",
       "    embed_document(root);\n",
       "  } else {\n",
       "    var attempts = 0;\n",
       "    var timer = setInterval(function(root) {\n",
       "      if (root.Bokeh !== undefined && root.Bokeh.Panel !== undefined) {\n",
       "        clearInterval(timer);\n",
       "        embed_document(root);\n",
       "      } else if (document.readyState == \"complete\") {\n",
       "        attempts++;\n",
       "        if (attempts > 100) {\n",
       "          clearInterval(timer);\n",
       "          console.log(\"Bokeh: ERROR: Unable to run BokehJS code because BokehJS library is missing\");\n",
       "        }\n",
       "      }\n",
       "    }, 10, root)\n",
       "  }\n",
       "})(window);</script>"
      ],
      "text/plain": [
       ":Bars   [true_prob_a,Variable]   (value)"
      ]
     },
     "metadata": {
      "application/vnd.holoviews_exec.v0+json": {
       "id": "34164"
      }
     },
     "output_type": "display_data"
    },
    {
     "data": {},
     "metadata": {},
     "output_type": "display_data"
    },
    {
     "data": {
      "application/vnd.holoviews_exec.v0+json": "",
      "text/html": [
       "<div id='34298'>\n",
       "\n",
       "\n",
       "\n",
       "\n",
       "\n",
       "  <div class=\"bk-root\" id=\"87fccf0d-6702-4b2f-8d3c-5fac6c38a821\" data-root-id=\"34298\"></div>\n",
       "</div>\n",
       "<script type=\"application/javascript\">(function(root) {\n",
       "  function embed_document(root) {\n",
       "    var docs_json = {\"787f23f9-7254-451f-bcd4-679992df4d06\":{\"defs\":[],\"roots\":{\"references\":[{\"attributes\":{},\"id\":\"34308\",\"type\":\"CategoricalScale\"},{\"attributes\":{\"text\":\"Certainty: 0.95\",\"text_color\":\"black\",\"text_font_size\":\"12pt\"},\"id\":\"34304\",\"type\":\"Title\"},{\"attributes\":{\"bottom\":{\"field\":\"bottom\"},\"fill_alpha\":{\"value\":1.0},\"fill_color\":{\"field\":\"Variable\",\"transform\":{\"id\":\"34332\"}},\"hatch_alpha\":{\"value\":1.0},\"hatch_color\":{\"value\":\"black\"},\"hatch_scale\":{\"value\":12.0},\"hatch_weight\":{\"value\":1.0},\"line_alpha\":{\"value\":1.0},\"line_cap\":{\"value\":\"butt\"},\"line_color\":{\"value\":\"black\"},\"line_dash\":{\"value\":[]},\"line_dash_offset\":{\"value\":0},\"line_join\":{\"value\":\"bevel\"},\"line_width\":{\"value\":1},\"top\":{\"field\":\"top\"},\"width\":{\"value\":0.8},\"x\":{\"field\":\"true_prob_a\"}},\"id\":\"34353\",\"type\":\"VBar\"},{\"attributes\":{},\"id\":\"34346\",\"type\":\"BasicTickFormatter\"},{\"attributes\":{\"margin\":[5,5,5,5],\"name\":\"HSpacer54130\",\"sizing_mode\":\"stretch_width\"},\"id\":\"34380\",\"type\":\"Spacer\"},{\"attributes\":{},\"id\":\"34319\",\"type\":\"SaveTool\"},{\"attributes\":{\"label\":{\"field\":\"Variable\"},\"renderers\":[{\"id\":\"34339\"}]},\"id\":\"34352\",\"type\":\"LegendItem\"},{\"attributes\":{},\"id\":\"34345\",\"type\":\"AllLabels\"},{\"attributes\":{},\"id\":\"34316\",\"type\":\"BasicTicker\"},{\"attributes\":{\"data\":{\"Variable\":[\"A\",\"A\",\"A\",\"A\",\"A\",\"A\",\"B\",\"B\",\"B\",\"uncertain\",\"uncertain\",\"uncertain\",\"uncertain\",\"uncertain\"],\"bottom\":{\"__ndarray__\":\"AAAAAAAAAAAAAAAAAAAAAAAAAAAAAAAAAAAAAAAAAAAAAAAAAAAAAAAAAAAAAAAAAAAAAADgZEAAAAAAAGBwQAAAAAAAiIJAAAAAAACgZUAAAAAAAMBwQAAAAAAAoHtAAAAAAACYgkAAAAAAAOCOQA==\",\"dtype\":\"float64\",\"order\":\"little\",\"shape\":[14]},\"top\":{\"__ndarray__\":\"AAAAAADgZEAAAAAAAGBwQAAAAAAAoHtAAAAAAACIgkAAAAAAAOCOQAAAAAAAQI9AAAAAAACgZUAAAAAAAMBwQAAAAAAAmIJAAAAAAABAj0AAAAAAAECPQAAAAAAAQI9AAAAAAABAj0AAAAAAAECPQA==\",\"dtype\":\"float64\",\"order\":\"little\",\"shape\":[14]},\"true_prob_a\":[\"0.52\",\"0.53\",\"0.54\",\"0.55\",\"0.6\",\"0.65\",\"0.52\",\"0.53\",\"0.55\",\"0.52\",\"0.53\",\"0.54\",\"0.55\",\"0.6\"],\"value\":{\"__ndarray__\":\"AAAAAADgZEAAAAAAAGBwQAAAAAAAoHtAAAAAAACIgkAAAAAAAOCOQAAAAAAAQI9AAAAAAAAAGEAAAAAAAAAYQAAAAAAAAABAAAAAAADYiUAAAAAAAOCGQAAAAAAAcIFAAAAAAABQeUAAAAAAAAAoQA==\",\"dtype\":\"float64\",\"order\":\"little\",\"shape\":[14]}},\"selected\":{\"id\":\"34334\"},\"selection_policy\":{\"id\":\"34349\"}},\"id\":\"34333\",\"type\":\"ColumnDataSource\"},{\"attributes\":{\"data_source\":{\"id\":\"34333\"},\"glyph\":{\"id\":\"34336\"},\"hover_glyph\":null,\"muted_glyph\":{\"id\":\"34338\"},\"nonselection_glyph\":{\"id\":\"34337\"},\"selection_glyph\":{\"id\":\"34353\"},\"view\":{\"id\":\"34340\"}},\"id\":\"34339\",\"type\":\"GlyphRenderer\"},{\"attributes\":{\"active_multi\":null,\"tools\":[{\"id\":\"34302\"},{\"id\":\"34319\"},{\"id\":\"34320\"},{\"id\":\"34321\"},{\"id\":\"34322\"},{\"id\":\"34323\"}]},\"id\":\"34325\",\"type\":\"Toolbar\"},{\"attributes\":{\"bottom\":{\"field\":\"bottom\"},\"fill_color\":{\"field\":\"Variable\",\"transform\":{\"id\":\"34332\"}},\"top\":{\"field\":\"top\"},\"width\":{\"value\":0.8},\"x\":{\"field\":\"true_prob_a\"}},\"id\":\"34336\",\"type\":\"VBar\"},{\"attributes\":{\"end\":1000.0,\"reset_end\":1000.0,\"reset_start\":0.0,\"tags\":[[[\"value\",\"value\",null]]]},\"id\":\"34301\",\"type\":\"Range1d\"},{\"attributes\":{},\"id\":\"34342\",\"type\":\"AllLabels\"},{\"attributes\":{\"factors\":[\"A\",\"B\",\"uncertain\"],\"palette\":[\"#30a2da\",\"#fc4f30\",\"#e5ae38\"]},\"id\":\"34332\",\"type\":\"CategoricalColorMapper\"},{\"attributes\":{},\"id\":\"34313\",\"type\":\"CategoricalTicker\"},{\"attributes\":{\"below\":[{\"id\":\"34312\"}],\"center\":[{\"id\":\"34314\"},{\"id\":\"34318\"},{\"id\":\"34351\"}],\"height\":300,\"left\":[{\"id\":\"34315\"}],\"margin\":[5,5,5,5],\"min_border_bottom\":10,\"min_border_left\":10,\"min_border_right\":10,\"min_border_top\":10,\"renderers\":[{\"id\":\"34339\"}],\"right\":[{\"id\":\"34351\"}],\"sizing_mode\":\"fixed\",\"title\":{\"id\":\"34304\"},\"toolbar\":{\"id\":\"34325\"},\"width\":700,\"x_range\":{\"id\":\"34300\"},\"x_scale\":{\"id\":\"34308\"},\"y_range\":{\"id\":\"34301\"},\"y_scale\":{\"id\":\"34310\"}},\"id\":\"34303\",\"subtype\":\"Figure\",\"type\":\"Plot\"},{\"attributes\":{},\"id\":\"34310\",\"type\":\"LinearScale\"},{\"attributes\":{\"source\":{\"id\":\"34333\"}},\"id\":\"34340\",\"type\":\"CDSView\"},{\"attributes\":{\"bottom_units\":\"screen\",\"fill_alpha\":0.5,\"fill_color\":\"lightgrey\",\"left_units\":\"screen\",\"level\":\"overlay\",\"line_alpha\":1.0,\"line_color\":\"black\",\"line_dash\":[4,4],\"line_width\":2,\"right_units\":\"screen\",\"syncable\":false,\"top_units\":\"screen\"},\"id\":\"34324\",\"type\":\"BoxAnnotation\"},{\"attributes\":{\"axis_label\":\"\",\"formatter\":{\"id\":\"34346\"},\"major_label_policy\":{\"id\":\"34345\"},\"ticker\":{\"id\":\"34316\"}},\"id\":\"34315\",\"type\":\"LinearAxis\"},{\"attributes\":{\"bottom\":{\"field\":\"bottom\"},\"fill_alpha\":{\"value\":0.1},\"fill_color\":{\"field\":\"Variable\",\"transform\":{\"id\":\"34332\"}},\"line_alpha\":{\"value\":0.1},\"top\":{\"field\":\"top\"},\"width\":{\"value\":0.8},\"x\":{\"field\":\"true_prob_a\"}},\"id\":\"34337\",\"type\":\"VBar\"},{\"attributes\":{},\"id\":\"34320\",\"type\":\"PanTool\"},{\"attributes\":{\"bottom\":{\"field\":\"bottom\"},\"fill_alpha\":{\"value\":0.2},\"fill_color\":{\"field\":\"Variable\",\"transform\":{\"id\":\"34332\"}},\"line_alpha\":{\"value\":0.2},\"top\":{\"field\":\"top\"},\"width\":{\"value\":0.8},\"x\":{\"field\":\"true_prob_a\"}},\"id\":\"34338\",\"type\":\"VBar\"},{\"attributes\":{},\"id\":\"34323\",\"type\":\"ResetTool\"},{\"attributes\":{\"axis_label\":\"true_prob_a\",\"formatter\":{\"id\":\"34343\"},\"major_label_orientation\":1.5707963267948966,\"major_label_policy\":{\"id\":\"34342\"},\"ticker\":{\"id\":\"34313\"}},\"id\":\"34312\",\"type\":\"CategoricalAxis\"},{\"attributes\":{\"callback\":null,\"renderers\":[{\"id\":\"34339\"}],\"tags\":[\"hv_created\"],\"tooltips\":[[\"true_prob_a\",\"@{true_prob_a}\"],[\"Variable\",\"@{Variable}\"],[\"value\",\"@{value}\"]]},\"id\":\"34302\",\"type\":\"HoverTool\"},{\"attributes\":{},\"id\":\"34349\",\"type\":\"UnionRenderers\"},{\"attributes\":{},\"id\":\"34321\",\"type\":\"WheelZoomTool\"},{\"attributes\":{\"factors\":[\"0.52\",\"0.53\",\"0.54\",\"0.55\",\"0.6\",\"0.65\"],\"tags\":[[[\"true_prob_a\",\"true_prob_a\",null]]]},\"id\":\"34300\",\"type\":\"FactorRange\"},{\"attributes\":{\"children\":[{\"id\":\"34299\"},{\"id\":\"34303\"},{\"id\":\"34380\"}],\"margin\":[0,0,0,0],\"name\":\"Row54125\",\"tags\":[\"embedded\"]},\"id\":\"34298\",\"type\":\"Row\"},{\"attributes\":{},\"id\":\"34334\",\"type\":\"Selection\"},{\"attributes\":{\"axis\":{\"id\":\"34315\"},\"dimension\":1,\"grid_line_color\":null,\"ticker\":null},\"id\":\"34318\",\"type\":\"Grid\"},{\"attributes\":{\"axis\":{\"id\":\"34312\"},\"grid_line_color\":null,\"ticker\":null},\"id\":\"34314\",\"type\":\"Grid\"},{\"attributes\":{\"items\":[{\"id\":\"34352\"}],\"location\":[0,0]},\"id\":\"34351\",\"type\":\"Legend\"},{\"attributes\":{\"margin\":[5,5,5,5],\"name\":\"HSpacer54129\",\"sizing_mode\":\"stretch_width\"},\"id\":\"34299\",\"type\":\"Spacer\"},{\"attributes\":{\"overlay\":{\"id\":\"34324\"}},\"id\":\"34322\",\"type\":\"BoxZoomTool\"},{\"attributes\":{},\"id\":\"34343\",\"type\":\"CategoricalTickFormatter\"}],\"root_ids\":[\"34298\"]},\"title\":\"Bokeh Application\",\"version\":\"2.3.2\"}};\n",
       "    var render_items = [{\"docid\":\"787f23f9-7254-451f-bcd4-679992df4d06\",\"root_ids\":[\"34298\"],\"roots\":{\"34298\":\"87fccf0d-6702-4b2f-8d3c-5fac6c38a821\"}}];\n",
       "    root.Bokeh.embed.embed_items_notebook(docs_json, render_items);\n",
       "  }\n",
       "  if (root.Bokeh !== undefined && root.Bokeh.Panel !== undefined) {\n",
       "    embed_document(root);\n",
       "  } else {\n",
       "    var attempts = 0;\n",
       "    var timer = setInterval(function(root) {\n",
       "      if (root.Bokeh !== undefined && root.Bokeh.Panel !== undefined) {\n",
       "        clearInterval(timer);\n",
       "        embed_document(root);\n",
       "      } else if (document.readyState == \"complete\") {\n",
       "        attempts++;\n",
       "        if (attempts > 100) {\n",
       "          clearInterval(timer);\n",
       "          console.log(\"Bokeh: ERROR: Unable to run BokehJS code because BokehJS library is missing\");\n",
       "        }\n",
       "      }\n",
       "    }, 10, root)\n",
       "  }\n",
       "})(window);</script>"
      ],
      "text/plain": [
       ":Bars   [true_prob_a,Variable]   (value)"
      ]
     },
     "metadata": {
      "application/vnd.holoviews_exec.v0+json": {
       "id": "34298"
      }
     },
     "output_type": "display_data"
    },
    {
     "data": {},
     "metadata": {},
     "output_type": "display_data"
    },
    {
     "data": {
      "application/vnd.holoviews_exec.v0+json": "",
      "text/html": [
       "<div id='34432'>\n",
       "\n",
       "\n",
       "\n",
       "\n",
       "\n",
       "  <div class=\"bk-root\" id=\"eef9dacb-c69c-496b-a7fd-87b0a87a70eb\" data-root-id=\"34432\"></div>\n",
       "</div>\n",
       "<script type=\"application/javascript\">(function(root) {\n",
       "  function embed_document(root) {\n",
       "    var docs_json = {\"deb6b66b-41a4-43b5-b297-840d214fbd26\":{\"defs\":[],\"roots\":{\"references\":[{\"attributes\":{\"children\":[{\"id\":\"34433\"},{\"id\":\"34437\"},{\"id\":\"34514\"}],\"margin\":[0,0,0,0],\"name\":\"Row54374\",\"tags\":[\"embedded\"]},\"id\":\"34432\",\"type\":\"Row\"},{\"attributes\":{\"label\":{\"field\":\"Variable\"},\"renderers\":[{\"id\":\"34473\"}]},\"id\":\"34486\",\"type\":\"LegendItem\"},{\"attributes\":{\"data\":{\"Variable\":[\"A\",\"A\",\"A\",\"A\",\"A\",\"A\",\"B\",\"B\",\"B\",\"uncertain\",\"uncertain\",\"uncertain\",\"uncertain\",\"uncertain\"],\"bottom\":{\"__ndarray__\":\"AAAAAAAAAAAAAAAAAAAAAAAAAAAAAAAAAAAAAAAAAAAAAAAAAAAAAAAAAAAAAAAAAAAAAABgZ0AAAAAAAFBxQAAAAAAAEHtAAAAAAAAAaEAAAAAAALBxQAAAAAAAIHtAAAAAAAAYgkAAAAAAAAiPQA==\",\"dtype\":\"float64\",\"order\":\"little\",\"shape\":[14]},\"top\":{\"__ndarray__\":\"AAAAAABgZ0AAAAAAAFBxQAAAAAAAEHtAAAAAAAAYgkAAAAAAAAiPQAAAAAAAQI9AAAAAAAAAaEAAAAAAALBxQAAAAAAAIHtAAAAAAABAj0AAAAAAAECPQAAAAAAAQI9AAAAAAABAj0AAAAAAAECPQA==\",\"dtype\":\"float64\",\"order\":\"little\",\"shape\":[14]},\"true_prob_a\":[\"0.52\",\"0.53\",\"0.54\",\"0.55\",\"0.6\",\"0.65\",\"0.52\",\"0.53\",\"0.54\",\"0.52\",\"0.53\",\"0.54\",\"0.55\",\"0.6\"],\"value\":{\"__ndarray__\":\"AAAAAABgZ0AAAAAAAFBxQAAAAAAAEHtAAAAAAAAYgkAAAAAAAAiPQAAAAAAAQI9AAAAAAAAAFEAAAAAAAAAYQAAAAAAAAPA/AAAAAABAiUAAAAAAAGiGQAAAAAAAsIFAAAAAAABQekAAAAAAAAAcQA==\",\"dtype\":\"float64\",\"order\":\"little\",\"shape\":[14]}},\"selected\":{\"id\":\"34468\"},\"selection_policy\":{\"id\":\"34483\"}},\"id\":\"34467\",\"type\":\"ColumnDataSource\"},{\"attributes\":{},\"id\":\"34442\",\"type\":\"CategoricalScale\"},{\"attributes\":{},\"id\":\"34468\",\"type\":\"Selection\"},{\"attributes\":{},\"id\":\"34447\",\"type\":\"CategoricalTicker\"},{\"attributes\":{},\"id\":\"34477\",\"type\":\"CategoricalTickFormatter\"},{\"attributes\":{},\"id\":\"34455\",\"type\":\"WheelZoomTool\"},{\"attributes\":{\"bottom\":{\"field\":\"bottom\"},\"fill_color\":{\"field\":\"Variable\",\"transform\":{\"id\":\"34466\"}},\"top\":{\"field\":\"top\"},\"width\":{\"value\":0.8},\"x\":{\"field\":\"true_prob_a\"}},\"id\":\"34470\",\"type\":\"VBar\"},{\"attributes\":{\"margin\":[5,5,5,5],\"name\":\"HSpacer54378\",\"sizing_mode\":\"stretch_width\"},\"id\":\"34433\",\"type\":\"Spacer\"},{\"attributes\":{\"factors\":[\"0.52\",\"0.53\",\"0.54\",\"0.55\",\"0.6\",\"0.65\"],\"tags\":[[[\"true_prob_a\",\"true_prob_a\",null]]]},\"id\":\"34434\",\"type\":\"FactorRange\"},{\"attributes\":{},\"id\":\"34444\",\"type\":\"LinearScale\"},{\"attributes\":{\"bottom\":{\"field\":\"bottom\"},\"fill_alpha\":{\"value\":1.0},\"fill_color\":{\"field\":\"Variable\",\"transform\":{\"id\":\"34466\"}},\"hatch_alpha\":{\"value\":1.0},\"hatch_color\":{\"value\":\"black\"},\"hatch_scale\":{\"value\":12.0},\"hatch_weight\":{\"value\":1.0},\"line_alpha\":{\"value\":1.0},\"line_cap\":{\"value\":\"butt\"},\"line_color\":{\"value\":\"black\"},\"line_dash\":{\"value\":[]},\"line_dash_offset\":{\"value\":0},\"line_join\":{\"value\":\"bevel\"},\"line_width\":{\"value\":1},\"top\":{\"field\":\"top\"},\"width\":{\"value\":0.8},\"x\":{\"field\":\"true_prob_a\"}},\"id\":\"34487\",\"type\":\"VBar\"},{\"attributes\":{\"bottom_units\":\"screen\",\"fill_alpha\":0.5,\"fill_color\":\"lightgrey\",\"left_units\":\"screen\",\"level\":\"overlay\",\"line_alpha\":1.0,\"line_color\":\"black\",\"line_dash\":[4,4],\"line_width\":2,\"right_units\":\"screen\",\"syncable\":false,\"top_units\":\"screen\"},\"id\":\"34458\",\"type\":\"BoxAnnotation\"},{\"attributes\":{\"active_multi\":null,\"tools\":[{\"id\":\"34436\"},{\"id\":\"34453\"},{\"id\":\"34454\"},{\"id\":\"34455\"},{\"id\":\"34456\"},{\"id\":\"34457\"}]},\"id\":\"34459\",\"type\":\"Toolbar\"},{\"attributes\":{\"margin\":[5,5,5,5],\"name\":\"HSpacer54379\",\"sizing_mode\":\"stretch_width\"},\"id\":\"34514\",\"type\":\"Spacer\"},{\"attributes\":{\"below\":[{\"id\":\"34446\"}],\"center\":[{\"id\":\"34448\"},{\"id\":\"34452\"},{\"id\":\"34485\"}],\"height\":300,\"left\":[{\"id\":\"34449\"}],\"margin\":[5,5,5,5],\"min_border_bottom\":10,\"min_border_left\":10,\"min_border_right\":10,\"min_border_top\":10,\"renderers\":[{\"id\":\"34473\"}],\"right\":[{\"id\":\"34485\"}],\"sizing_mode\":\"fixed\",\"title\":{\"id\":\"34438\"},\"toolbar\":{\"id\":\"34459\"},\"width\":700,\"x_range\":{\"id\":\"34434\"},\"x_scale\":{\"id\":\"34442\"},\"y_range\":{\"id\":\"34435\"},\"y_scale\":{\"id\":\"34444\"}},\"id\":\"34437\",\"subtype\":\"Figure\",\"type\":\"Plot\"},{\"attributes\":{\"axis_label\":\"true_prob_a\",\"formatter\":{\"id\":\"34477\"},\"major_label_orientation\":1.5707963267948966,\"major_label_policy\":{\"id\":\"34476\"},\"ticker\":{\"id\":\"34447\"}},\"id\":\"34446\",\"type\":\"CategoricalAxis\"},{\"attributes\":{\"source\":{\"id\":\"34467\"}},\"id\":\"34474\",\"type\":\"CDSView\"},{\"attributes\":{\"callback\":null,\"renderers\":[{\"id\":\"34473\"}],\"tags\":[\"hv_created\"],\"tooltips\":[[\"true_prob_a\",\"@{true_prob_a}\"],[\"Variable\",\"@{Variable}\"],[\"value\",\"@{value}\"]]},\"id\":\"34436\",\"type\":\"HoverTool\"},{\"attributes\":{},\"id\":\"34450\",\"type\":\"BasicTicker\"},{\"attributes\":{\"bottom\":{\"field\":\"bottom\"},\"fill_alpha\":{\"value\":0.2},\"fill_color\":{\"field\":\"Variable\",\"transform\":{\"id\":\"34466\"}},\"line_alpha\":{\"value\":0.2},\"top\":{\"field\":\"top\"},\"width\":{\"value\":0.8},\"x\":{\"field\":\"true_prob_a\"}},\"id\":\"34472\",\"type\":\"VBar\"},{\"attributes\":{\"data_source\":{\"id\":\"34467\"},\"glyph\":{\"id\":\"34470\"},\"hover_glyph\":null,\"muted_glyph\":{\"id\":\"34472\"},\"nonselection_glyph\":{\"id\":\"34471\"},\"selection_glyph\":{\"id\":\"34487\"},\"view\":{\"id\":\"34474\"}},\"id\":\"34473\",\"type\":\"GlyphRenderer\"},{\"attributes\":{\"end\":1000.0,\"reset_end\":1000.0,\"reset_start\":0.0,\"tags\":[[[\"value\",\"value\",null]]]},\"id\":\"34435\",\"type\":\"Range1d\"},{\"attributes\":{\"text\":\"Certainty: 0.99\",\"text_color\":\"black\",\"text_font_size\":\"12pt\"},\"id\":\"34438\",\"type\":\"Title\"},{\"attributes\":{\"overlay\":{\"id\":\"34458\"}},\"id\":\"34456\",\"type\":\"BoxZoomTool\"},{\"attributes\":{},\"id\":\"34457\",\"type\":\"ResetTool\"},{\"attributes\":{\"axis\":{\"id\":\"34449\"},\"dimension\":1,\"grid_line_color\":null,\"ticker\":null},\"id\":\"34452\",\"type\":\"Grid\"},{\"attributes\":{},\"id\":\"34479\",\"type\":\"AllLabels\"},{\"attributes\":{\"items\":[{\"id\":\"34486\"}],\"location\":[0,0]},\"id\":\"34485\",\"type\":\"Legend\"},{\"attributes\":{},\"id\":\"34476\",\"type\":\"AllLabels\"},{\"attributes\":{},\"id\":\"34480\",\"type\":\"BasicTickFormatter\"},{\"attributes\":{\"factors\":[\"A\",\"B\",\"uncertain\"],\"palette\":[\"#30a2da\",\"#fc4f30\",\"#e5ae38\"]},\"id\":\"34466\",\"type\":\"CategoricalColorMapper\"},{\"attributes\":{\"bottom\":{\"field\":\"bottom\"},\"fill_alpha\":{\"value\":0.1},\"fill_color\":{\"field\":\"Variable\",\"transform\":{\"id\":\"34466\"}},\"line_alpha\":{\"value\":0.1},\"top\":{\"field\":\"top\"},\"width\":{\"value\":0.8},\"x\":{\"field\":\"true_prob_a\"}},\"id\":\"34471\",\"type\":\"VBar\"},{\"attributes\":{},\"id\":\"34483\",\"type\":\"UnionRenderers\"},{\"attributes\":{\"axis\":{\"id\":\"34446\"},\"grid_line_color\":null,\"ticker\":null},\"id\":\"34448\",\"type\":\"Grid\"},{\"attributes\":{},\"id\":\"34453\",\"type\":\"SaveTool\"},{\"attributes\":{},\"id\":\"34454\",\"type\":\"PanTool\"},{\"attributes\":{\"axis_label\":\"\",\"formatter\":{\"id\":\"34480\"},\"major_label_policy\":{\"id\":\"34479\"},\"ticker\":{\"id\":\"34450\"}},\"id\":\"34449\",\"type\":\"LinearAxis\"}],\"root_ids\":[\"34432\"]},\"title\":\"Bokeh Application\",\"version\":\"2.3.2\"}};\n",
       "    var render_items = [{\"docid\":\"deb6b66b-41a4-43b5-b297-840d214fbd26\",\"root_ids\":[\"34432\"],\"roots\":{\"34432\":\"eef9dacb-c69c-496b-a7fd-87b0a87a70eb\"}}];\n",
       "    root.Bokeh.embed.embed_items_notebook(docs_json, render_items);\n",
       "  }\n",
       "  if (root.Bokeh !== undefined && root.Bokeh.Panel !== undefined) {\n",
       "    embed_document(root);\n",
       "  } else {\n",
       "    var attempts = 0;\n",
       "    var timer = setInterval(function(root) {\n",
       "      if (root.Bokeh !== undefined && root.Bokeh.Panel !== undefined) {\n",
       "        clearInterval(timer);\n",
       "        embed_document(root);\n",
       "      } else if (document.readyState == \"complete\") {\n",
       "        attempts++;\n",
       "        if (attempts > 100) {\n",
       "          clearInterval(timer);\n",
       "          console.log(\"Bokeh: ERROR: Unable to run BokehJS code because BokehJS library is missing\");\n",
       "        }\n",
       "      }\n",
       "    }, 10, root)\n",
       "  }\n",
       "})(window);</script>"
      ],
      "text/plain": [
       ":Bars   [true_prob_a,Variable]   (value)"
      ]
     },
     "metadata": {
      "application/vnd.holoviews_exec.v0+json": {
       "id": "34432"
      }
     },
     "output_type": "display_data"
    }
   ],
   "source": [
    "for cert in sorted(cutoff_results.desired_certainty.unique()):\n",
    "    display(cutoff_results[cutoff_results.desired_certainty == cert].groupby([\"desired_certainty\",\"true_prob_a\"])[\"conclusion\"].value_counts(dropna=False).reset_index(name=\"values\").\\\n",
    "        pivot(index=[\"desired_certainty\",\"true_prob_a\"], columns=[\"conclusion\"],values=\"values\").reset_index().\\\n",
    "        hvplot(kind=\"bar\", x=\"true_prob_a\", y=[\"A\",\"B\",\"uncertain\"], \n",
    "               stacked=True, subplots=False, rot=90, title=\"Certainty: {}\".format(str(cert))))\n"
   ]
  },
  {
   "cell_type": "code",
   "execution_count": 375,
   "metadata": {},
   "outputs": [
    {
     "data": {
      "image/png": "[encoded data removed]",
      "text/plain": [
       "<Figure size 800x400 with 1 Axes>"
      ]
     },
     "metadata": {
      "needs_background": "light"
     },
     "output_type": "display_data"
    },
    {
     "data": {
      "image/png": "[encoded data removed]",
      "text/plain": [
       "<Figure size 800x400 with 1 Axes>"
      ]
     },
     "metadata": {
      "needs_background": "light"
     },
     "output_type": "display_data"
    },
    {
     "data": {
      "image/png": "[encoded data removed]",
      "text/plain": [
       "<Figure size 800x400 with 1 Axes>"
      ]
     },
     "metadata": {
      "needs_background": "light"
     },
     "output_type": "display_data"
    },
    {
     "data": {
      "image/png": "[encoded data removed]",
      "text/plain": [
       "<Figure size 800x400 with 1 Axes>"
      ]
     },
     "metadata": {
      "needs_background": "light"
     },
     "output_type": "display_data"
    }
   ],
   "source": [
    "from matplotlib import rcParams\n",
    "rcParams['figure.figsize'] = 4,2\n",
    "for cert in sorted(cutoff_results.desired_certainty.unique()):\n",
    "    \n",
    "    d = cutoff_results[cutoff_results.desired_certainty == cert].\\\n",
    "        loc[:,[\"true_prob_a\",\"conclusion\"]]\n",
    "        #   id_vars=[\"true_prob_a\"], value_vars=[\"A\",\"B\",\"uncertain\"]).fillna(0)\n",
    "    #display(d)\n",
    "    \n",
    "    sns.histplot(data=d, x=\"true_prob_a\",hue=\"conclusion\",multiple=\"stack\")\n",
    "    plt.title(\"Certainty level: {}\".format(cert))\n",
    "    plt.show()"
   ]
  },
  {
   "cell_type": "markdown",
   "metadata": {},
   "source": [
    "The bars show us immediately a clear trend: as true probability increases, the number of `uncertain` conclusions decreases. This is intuitive - the stronger the true preference for A, the easier it is to detect with a fixed N of data."
   ]
  },
  {
   "cell_type": "markdown",
   "metadata": {},
   "source": [
    "What about mistakes? Leaving out the uncertain conclusions, how often does our system make an erroneous bayesian inference?"
   ]
  },
  {
   "cell_type": "code",
   "execution_count": 376,
   "metadata": {},
   "outputs": [
    {
     "data": {
      "text/html": [
       "<div>\n",
       "<style scoped>\n",
       "    .dataframe tbody tr th:only-of-type {\n",
       "        vertical-align: middle;\n",
       "    }\n",
       "\n",
       "    .dataframe tbody tr th {\n",
       "        vertical-align: top;\n",
       "    }\n",
       "\n",
       "    .dataframe thead th {\n",
       "        text-align: right;\n",
       "    }\n",
       "</style>\n",
       "<table border=\"1\" class=\"dataframe\">\n",
       "  <thead>\n",
       "    <tr style=\"text-align: right;\">\n",
       "      <th>true_prob_a</th>\n",
       "      <th>0.52</th>\n",
       "      <th>0.53</th>\n",
       "      <th>0.54</th>\n",
       "      <th>0.55</th>\n",
       "      <th>0.60</th>\n",
       "      <th>0.65</th>\n",
       "    </tr>\n",
       "    <tr>\n",
       "      <th>desired_certainty</th>\n",
       "      <th></th>\n",
       "      <th></th>\n",
       "      <th></th>\n",
       "      <th></th>\n",
       "      <th></th>\n",
       "      <th></th>\n",
       "    </tr>\n",
       "  </thead>\n",
       "  <tbody>\n",
       "    <tr>\n",
       "      <th>0.99</th>\n",
       "      <td>0.973958</td>\n",
       "      <td>0.978799</td>\n",
       "      <td>0.997696</td>\n",
       "      <td>1.000000</td>\n",
       "      <td>1.0</td>\n",
       "      <td>1.0</td>\n",
       "    </tr>\n",
       "    <tr>\n",
       "      <th>0.95</th>\n",
       "      <td>0.965318</td>\n",
       "      <td>0.977612</td>\n",
       "      <td>1.000000</td>\n",
       "      <td>0.996639</td>\n",
       "      <td>1.0</td>\n",
       "      <td>1.0</td>\n",
       "    </tr>\n",
       "    <tr>\n",
       "      <th>0.90</th>\n",
       "      <td>0.970760</td>\n",
       "      <td>1.000000</td>\n",
       "      <td>0.990172</td>\n",
       "      <td>0.998294</td>\n",
       "      <td>1.0</td>\n",
       "      <td>1.0</td>\n",
       "    </tr>\n",
       "    <tr>\n",
       "      <th>0.80</th>\n",
       "      <td>0.965714</td>\n",
       "      <td>0.996904</td>\n",
       "      <td>0.992874</td>\n",
       "      <td>1.000000</td>\n",
       "      <td>1.0</td>\n",
       "      <td>1.0</td>\n",
       "    </tr>\n",
       "  </tbody>\n",
       "</table>\n",
       "</div>"
      ],
      "text/plain": [
       "true_prob_a            0.52      0.53      0.54      0.55  0.60  0.65\n",
       "desired_certainty                                                    \n",
       "0.99               0.973958  0.978799  0.997696  1.000000   1.0   1.0\n",
       "0.95               0.965318  0.977612  1.000000  0.996639   1.0   1.0\n",
       "0.90               0.970760  1.000000  0.990172  0.998294   1.0   1.0\n",
       "0.80               0.965714  0.996904  0.992874  1.000000   1.0   1.0"
      ]
     },
     "metadata": {},
     "output_type": "display_data"
    },
    {
     "data": {
      "text/plain": [
       "<AxesSubplot:xlabel='true_prob_a', ylabel='desired_certainty'>"
      ]
     },
     "execution_count": 376,
     "metadata": {},
     "output_type": "execute_result"
    },
    {
     "data": {
      "image/png": "[encoded data removed]",
      "text/plain": [
       "<Figure size 800x400 with 2 Axes>"
      ]
     },
     "metadata": {
      "needs_background": "light"
     },
     "output_type": "display_data"
    }
   ],
   "source": [
    "d = cutoff_results[cutoff_results.conclusion != \"uncertain\"].groupby([\"desired_certainty\",\"true_prob_a\"])[\"correct\"].value_counts(dropna=False, normalize=True).reset_index(name=\"value\").fillna(0)\n",
    "d=d.loc[d.correct==True,[\"desired_certainty\",\"true_prob_a\",\"value\"]]\\\n",
    "    .pivot(\"desired_certainty\",\"true_prob_a\",\"value\").sort_values(\"desired_certainty\",ascending=False)\n",
    "display(d.head(10))\n",
    "sns.heatmap(d, linewidths=0.5, cmap=\"PuOr\", center=0.95)"
   ]
  },
  {
   "cell_type": "markdown",
   "metadata": {},
   "source": [
    "In the figure above, we see that all versions of the model are over 97% accurate, and if true probability is over 55% then they are perfectly accurate."
   ]
  },
  {
   "cell_type": "markdown",
   "metadata": {},
   "source": [
    "To make a business decision on whether and how to use the system, we can analyse the impact on costs. This analysis assumes a fixed cost per response, and a very high cost on an erroneous inference between A and B. Naturally, such costs differ between use cases, and should preferably be elicited either from historical records or SMEs."
   ]
  },
  {
   "cell_type": "code",
   "execution_count": 377,
   "metadata": {
    "scrolled": true
   },
   "outputs": [
    {
     "name": "stdout",
     "output_type": "stream",
     "text": [
      "Cost per response 1, cost of wrong A/B decision 1000000\n",
      "\n",
      "For certainty 0.8, prob_a 0.52 we got:\n",
      "Saved money in sampling 43750 (max sample 500)\n",
      "Lost in wrong_decisions 6000000, probability of mistake 0.60%\n",
      "Total -5956250\n",
      "\n",
      "For certainty 0.8, prob_a 0.53 we got:\n",
      "Saved money in sampling 74850 (max sample 500)\n",
      "Lost in wrong_decisions 1000000, probability of mistake 0.10%\n",
      "Total -925150\n",
      "\n",
      "For certainty 0.8, prob_a 0.54 we got:\n",
      "Saved money in sampling 97550 (max sample 500)\n",
      "Lost in wrong_decisions 3000000, probability of mistake 0.30%\n",
      "Total -2902450\n",
      "\n",
      "For certainty 0.8, prob_a 0.55 we got:\n",
      "Saved money in sampling 132650 (max sample 500)\n",
      "Lost in wrong_decisions 0, probability of mistake 0.00%\n",
      "Total +132650\n",
      "\n",
      "For certainty 0.8, prob_a 0.6 we got:\n",
      "Saved money in sampling 334900 (max sample 500)\n",
      "Lost in wrong_decisions 0, probability of mistake 0.00%\n",
      "Total +334900\n",
      "\n",
      "For certainty 0.8, prob_a 0.65 we got:\n",
      "Saved money in sampling 405450 (max sample 500)\n",
      "Lost in wrong_decisions 0, probability of mistake 0.00%\n",
      "Total +405450\n",
      "\n",
      "For certainty 0.9, prob_a 0.52 we got:\n",
      "Saved money in sampling 43950 (max sample 500)\n",
      "Lost in wrong_decisions 5000000, probability of mistake 0.50%\n",
      "Total -4956050\n",
      "\n",
      "For certainty 0.9, prob_a 0.53 we got:\n",
      "Saved money in sampling 69600 (max sample 500)\n",
      "Lost in wrong_decisions 0, probability of mistake 0.00%\n",
      "Total +69600\n",
      "\n",
      "For certainty 0.9, prob_a 0.54 we got:\n",
      "Saved money in sampling 100150 (max sample 500)\n",
      "Lost in wrong_decisions 4000000, probability of mistake 0.40%\n",
      "Total -3899850\n",
      "\n",
      "For certainty 0.9, prob_a 0.55 we got:\n",
      "Saved money in sampling 136450 (max sample 500)\n",
      "Lost in wrong_decisions 1000000, probability of mistake 0.10%\n",
      "Total -863550\n",
      "\n",
      "For certainty 0.9, prob_a 0.6 we got:\n",
      "Saved money in sampling 336850 (max sample 500)\n",
      "Lost in wrong_decisions 0, probability of mistake 0.00%\n",
      "Total +336850\n",
      "\n",
      "For certainty 0.9, prob_a 0.65 we got:\n",
      "Saved money in sampling 407050 (max sample 500)\n",
      "Lost in wrong_decisions 0, probability of mistake 0.00%\n",
      "Total +407050\n",
      "\n",
      "For certainty 0.95, prob_a 0.52 we got:\n",
      "Saved money in sampling 40000 (max sample 500)\n",
      "Lost in wrong_decisions 6000000, probability of mistake 0.60%\n",
      "Total -5960000\n",
      "\n",
      "For certainty 0.95, prob_a 0.53 we got:\n",
      "Saved money in sampling 63400 (max sample 500)\n",
      "Lost in wrong_decisions 6000000, probability of mistake 0.60%\n",
      "Total -5936600\n",
      "\n",
      "For certainty 0.95, prob_a 0.54 we got:\n",
      "Saved money in sampling 108550 (max sample 500)\n",
      "Lost in wrong_decisions 0, probability of mistake 0.00%\n",
      "Total +108550\n",
      "\n",
      "For certainty 0.95, prob_a 0.55 we got:\n",
      "Saved money in sampling 139550 (max sample 500)\n",
      "Lost in wrong_decisions 2000000, probability of mistake 0.20%\n",
      "Total -1860450\n",
      "\n",
      "For certainty 0.95, prob_a 0.6 we got:\n",
      "Saved money in sampling 331250 (max sample 500)\n",
      "Lost in wrong_decisions 0, probability of mistake 0.00%\n",
      "Total +331250\n",
      "\n",
      "For certainty 0.95, prob_a 0.65 we got:\n",
      "Saved money in sampling 405450 (max sample 500)\n",
      "Lost in wrong_decisions 0, probability of mistake 0.00%\n",
      "Total +405450\n",
      "\n",
      "For certainty 0.99, prob_a 0.52 we got:\n",
      "Saved money in sampling 50550 (max sample 500)\n",
      "Lost in wrong_decisions 5000000, probability of mistake 0.50%\n",
      "Total -4949450\n",
      "\n",
      "For certainty 0.99, prob_a 0.53 we got:\n",
      "Saved money in sampling 66350 (max sample 500)\n",
      "Lost in wrong_decisions 6000000, probability of mistake 0.60%\n",
      "Total -5933650\n",
      "\n",
      "For certainty 0.99, prob_a 0.54 we got:\n",
      "Saved money in sampling 107050 (max sample 500)\n",
      "Lost in wrong_decisions 1000000, probability of mistake 0.10%\n",
      "Total -892950\n",
      "\n",
      "For certainty 0.99, prob_a 0.55 we got:\n",
      "Saved money in sampling 143500 (max sample 500)\n",
      "Lost in wrong_decisions 0, probability of mistake 0.00%\n",
      "Total +143500\n",
      "\n",
      "For certainty 0.99, prob_a 0.6 we got:\n",
      "Saved money in sampling 330950 (max sample 500)\n",
      "Lost in wrong_decisions 0, probability of mistake 0.00%\n",
      "Total +330950\n",
      "\n",
      "For certainty 0.99, prob_a 0.65 we got:\n",
      "Saved money in sampling 403050 (max sample 500)\n",
      "Lost in wrong_decisions 0, probability of mistake 0.00%\n",
      "Total +403050\n",
      "\n"
     ]
    }
   ],
   "source": [
    "cost_per_response = 1\n",
    "cost_of_wrong_ab_decision = 10**6 # million\n",
    "print(\"Cost per response {}, cost of wrong A/B decision {}\\n\".format(cost_per_response, cost_of_wrong_ab_decision))\n",
    "params = set(zip(cutoff_results.desired_certainty.values, cutoff_results.true_prob_a.values))\n",
    "params = list(sorted(params))\n",
    "#print(list(sorted(params)))\n",
    "\n",
    "cost_outcome_df = pd.DataFrame(params)#.pivot(index=0, columns=1, values=2)\n",
    "cost_outcome_df.columns = [\"desired_certainty\",\"true_prob_a\"]\n",
    "cost_outcome_df[[\"saved_sampling\",\"wrong_decisions\",\"cost_wrong_decisions\",\"mistake_prob\",\"total\"]] = np.nan\n",
    "\n",
    "for cert, true_prob in params:\n",
    "    print(\"For certainty {}, prob_a {} we got:\".format(cert, true_prob))\n",
    "    d = cutoff_results.loc[(cutoff_results.desired_certainty == cert) & (cutoff_results.true_prob_a == true_prob) & \\\n",
    "                          (cutoff_results.conclusion != \"uncertain\")]\n",
    "    uncertain_results = len(cutoff_results.loc[(cutoff_results.desired_certainty == cert) & (cutoff_results.true_prob_a == true_prob) & \\\n",
    "                          (cutoff_results.conclusion == \"uncertain\")])\n",
    "    \n",
    "    max_sample = max_n_resp\n",
    "    saved_in_sampling = sum([max_sample-x for x in d.n])\n",
    "    n_wrong_decisions = sum(d.correct == False)\n",
    "    correct_decisions = sum(d.correct == True)\n",
    "    wrong_decision_cost = cost_of_wrong_ab_decision * n_wrong_decisions\n",
    "    mistake_prob = (n_wrong_decisions) / (len(d) + uncertain_results)\n",
    "    print(\"Saved money in sampling {:d} (max sample {})\".format(saved_in_sampling, max_sample))\n",
    "    print(\"Lost in wrong_decisions {:d}, probability of mistake {:.2%}\".format(wrong_decision_cost, mistake_prob))\n",
    "    print(\"Total {:+d}\\n\".format(saved_in_sampling - wrong_decision_cost))\n",
    "    \n",
    "    cost_outcome_df.loc[(cost_outcome_df.desired_certainty == cert) & (cost_outcome_df.true_prob_a == true_prob), \n",
    "                        \"saved_sampling\"]=saved_in_sampling\n",
    "    cost_outcome_df.loc[(cost_outcome_df.desired_certainty == cert) & (cost_outcome_df.true_prob_a == true_prob), \n",
    "                        \"uncertain_results\"]=uncertain_results\n",
    "    cost_outcome_df.loc[(cost_outcome_df.desired_certainty == cert) & (cost_outcome_df.true_prob_a == true_prob),\n",
    "                        \"wrong_decisions\"]=n_wrong_decisions\n",
    "    cost_outcome_df.loc[(cost_outcome_df.desired_certainty == cert) & (cost_outcome_df.true_prob_a == true_prob),\n",
    "                        \"correct_decisions\"]=correct_decisions\n",
    "    cost_outcome_df.loc[(cost_outcome_df.desired_certainty == cert) & (cost_outcome_df.true_prob_a == true_prob),\n",
    "                        \"cost_wrong_decisions\"]=wrong_decision_cost\n",
    "    cost_outcome_df.loc[(cost_outcome_df.desired_certainty == cert) & (cost_outcome_df.true_prob_a == true_prob),\n",
    "                        \"mistake_prob\"]=mistake_prob\n",
    "    cost_outcome_df.loc[(cost_outcome_df.desired_certainty == cert) & (cost_outcome_df.true_prob_a == true_prob),\n",
    "                        \"total\"] = saved_in_sampling - wrong_decision_cost\n",
    "    cost_outcome_df.loc[(cost_outcome_df.desired_certainty == cert) & (cost_outcome_df.true_prob_a == true_prob),\n",
    "                        \"save_per_exp\"] = (saved_in_sampling - wrong_decision_cost) / len(d)\n",
    "    \n",
    "    cost_outcome_df = cost_outcome_df[[\"desired_certainty\",\"true_prob_a\",\"uncertain_results\", \"correct_decisions\",\n",
    "                              \"wrong_decisions\",\"saved_sampling\",\"cost_wrong_decisions\",\"mistake_prob\",\n",
    "                              \"total\",\"save_per_exp\"]]"
   ]
  },
  {
   "cell_type": "code",
   "execution_count": 378,
   "metadata": {},
   "outputs": [
    {
     "data": {
      "text/html": [
       "<div>\n",
       "<style scoped>\n",
       "    .dataframe tbody tr th:only-of-type {\n",
       "        vertical-align: middle;\n",
       "    }\n",
       "\n",
       "    .dataframe tbody tr th {\n",
       "        vertical-align: top;\n",
       "    }\n",
       "\n",
       "    .dataframe thead th {\n",
       "        text-align: right;\n",
       "    }\n",
       "</style>\n",
       "<table border=\"1\" class=\"dataframe\">\n",
       "  <thead>\n",
       "    <tr style=\"text-align: right;\">\n",
       "      <th></th>\n",
       "      <th>desired_certainty</th>\n",
       "      <th>true_prob_a</th>\n",
       "      <th>uncertain_results</th>\n",
       "      <th>correct_decisions</th>\n",
       "      <th>wrong_decisions</th>\n",
       "      <th>saved_sampling</th>\n",
       "      <th>cost_wrong_decisions</th>\n",
       "      <th>mistake_prob</th>\n",
       "      <th>total</th>\n",
       "      <th>save_per_exp</th>\n",
       "    </tr>\n",
       "  </thead>\n",
       "  <tbody>\n",
       "    <tr>\n",
       "      <th>0</th>\n",
       "      <td>0.80</td>\n",
       "      <td>0.52</td>\n",
       "      <td>825.0</td>\n",
       "      <td>169.0</td>\n",
       "      <td>6.0</td>\n",
       "      <td>43750.0</td>\n",
       "      <td>6000000.0</td>\n",
       "      <td>0.006</td>\n",
       "      <td>-5956250.0</td>\n",
       "      <td>-34035.714286</td>\n",
       "    </tr>\n",
       "    <tr>\n",
       "      <th>1</th>\n",
       "      <td>0.80</td>\n",
       "      <td>0.53</td>\n",
       "      <td>677.0</td>\n",
       "      <td>322.0</td>\n",
       "      <td>1.0</td>\n",
       "      <td>74850.0</td>\n",
       "      <td>1000000.0</td>\n",
       "      <td>0.001</td>\n",
       "      <td>-925150.0</td>\n",
       "      <td>-2864.241486</td>\n",
       "    </tr>\n",
       "    <tr>\n",
       "      <th>2</th>\n",
       "      <td>0.80</td>\n",
       "      <td>0.54</td>\n",
       "      <td>579.0</td>\n",
       "      <td>418.0</td>\n",
       "      <td>3.0</td>\n",
       "      <td>97550.0</td>\n",
       "      <td>3000000.0</td>\n",
       "      <td>0.003</td>\n",
       "      <td>-2902450.0</td>\n",
       "      <td>-6894.180523</td>\n",
       "    </tr>\n",
       "    <tr>\n",
       "      <th>3</th>\n",
       "      <td>0.80</td>\n",
       "      <td>0.55</td>\n",
       "      <td>435.0</td>\n",
       "      <td>565.0</td>\n",
       "      <td>0.0</td>\n",
       "      <td>132650.0</td>\n",
       "      <td>0.0</td>\n",
       "      <td>0.000</td>\n",
       "      <td>132650.0</td>\n",
       "      <td>234.778761</td>\n",
       "    </tr>\n",
       "    <tr>\n",
       "      <th>4</th>\n",
       "      <td>0.80</td>\n",
       "      <td>0.60</td>\n",
       "      <td>8.0</td>\n",
       "      <td>992.0</td>\n",
       "      <td>0.0</td>\n",
       "      <td>334900.0</td>\n",
       "      <td>0.0</td>\n",
       "      <td>0.000</td>\n",
       "      <td>334900.0</td>\n",
       "      <td>337.600806</td>\n",
       "    </tr>\n",
       "    <tr>\n",
       "      <th>5</th>\n",
       "      <td>0.80</td>\n",
       "      <td>0.65</td>\n",
       "      <td>0.0</td>\n",
       "      <td>1000.0</td>\n",
       "      <td>0.0</td>\n",
       "      <td>405450.0</td>\n",
       "      <td>0.0</td>\n",
       "      <td>0.000</td>\n",
       "      <td>405450.0</td>\n",
       "      <td>405.450000</td>\n",
       "    </tr>\n",
       "    <tr>\n",
       "      <th>6</th>\n",
       "      <td>0.90</td>\n",
       "      <td>0.52</td>\n",
       "      <td>829.0</td>\n",
       "      <td>166.0</td>\n",
       "      <td>5.0</td>\n",
       "      <td>43950.0</td>\n",
       "      <td>5000000.0</td>\n",
       "      <td>0.005</td>\n",
       "      <td>-4956050.0</td>\n",
       "      <td>-28982.748538</td>\n",
       "    </tr>\n",
       "    <tr>\n",
       "      <th>7</th>\n",
       "      <td>0.90</td>\n",
       "      <td>0.53</td>\n",
       "      <td>693.0</td>\n",
       "      <td>307.0</td>\n",
       "      <td>0.0</td>\n",
       "      <td>69600.0</td>\n",
       "      <td>0.0</td>\n",
       "      <td>0.000</td>\n",
       "      <td>69600.0</td>\n",
       "      <td>226.710098</td>\n",
       "    </tr>\n",
       "    <tr>\n",
       "      <th>8</th>\n",
       "      <td>0.90</td>\n",
       "      <td>0.54</td>\n",
       "      <td>593.0</td>\n",
       "      <td>403.0</td>\n",
       "      <td>4.0</td>\n",
       "      <td>100150.0</td>\n",
       "      <td>4000000.0</td>\n",
       "      <td>0.004</td>\n",
       "      <td>-3899850.0</td>\n",
       "      <td>-9581.941032</td>\n",
       "    </tr>\n",
       "    <tr>\n",
       "      <th>9</th>\n",
       "      <td>0.90</td>\n",
       "      <td>0.55</td>\n",
       "      <td>414.0</td>\n",
       "      <td>585.0</td>\n",
       "      <td>1.0</td>\n",
       "      <td>136450.0</td>\n",
       "      <td>1000000.0</td>\n",
       "      <td>0.001</td>\n",
       "      <td>-863550.0</td>\n",
       "      <td>-1473.634812</td>\n",
       "    </tr>\n",
       "    <tr>\n",
       "      <th>10</th>\n",
       "      <td>0.90</td>\n",
       "      <td>0.60</td>\n",
       "      <td>5.0</td>\n",
       "      <td>995.0</td>\n",
       "      <td>0.0</td>\n",
       "      <td>336850.0</td>\n",
       "      <td>0.0</td>\n",
       "      <td>0.000</td>\n",
       "      <td>336850.0</td>\n",
       "      <td>338.542714</td>\n",
       "    </tr>\n",
       "    <tr>\n",
       "      <th>11</th>\n",
       "      <td>0.90</td>\n",
       "      <td>0.65</td>\n",
       "      <td>0.0</td>\n",
       "      <td>1000.0</td>\n",
       "      <td>0.0</td>\n",
       "      <td>407050.0</td>\n",
       "      <td>0.0</td>\n",
       "      <td>0.000</td>\n",
       "      <td>407050.0</td>\n",
       "      <td>407.050000</td>\n",
       "    </tr>\n",
       "    <tr>\n",
       "      <th>12</th>\n",
       "      <td>0.95</td>\n",
       "      <td>0.52</td>\n",
       "      <td>827.0</td>\n",
       "      <td>167.0</td>\n",
       "      <td>6.0</td>\n",
       "      <td>40000.0</td>\n",
       "      <td>6000000.0</td>\n",
       "      <td>0.006</td>\n",
       "      <td>-5960000.0</td>\n",
       "      <td>-34450.867052</td>\n",
       "    </tr>\n",
       "    <tr>\n",
       "      <th>13</th>\n",
       "      <td>0.95</td>\n",
       "      <td>0.53</td>\n",
       "      <td>732.0</td>\n",
       "      <td>262.0</td>\n",
       "      <td>6.0</td>\n",
       "      <td>63400.0</td>\n",
       "      <td>6000000.0</td>\n",
       "      <td>0.006</td>\n",
       "      <td>-5936600.0</td>\n",
       "      <td>-22151.492537</td>\n",
       "    </tr>\n",
       "    <tr>\n",
       "      <th>14</th>\n",
       "      <td>0.95</td>\n",
       "      <td>0.54</td>\n",
       "      <td>558.0</td>\n",
       "      <td>442.0</td>\n",
       "      <td>0.0</td>\n",
       "      <td>108550.0</td>\n",
       "      <td>0.0</td>\n",
       "      <td>0.000</td>\n",
       "      <td>108550.0</td>\n",
       "      <td>245.588235</td>\n",
       "    </tr>\n",
       "    <tr>\n",
       "      <th>15</th>\n",
       "      <td>0.95</td>\n",
       "      <td>0.55</td>\n",
       "      <td>405.0</td>\n",
       "      <td>593.0</td>\n",
       "      <td>2.0</td>\n",
       "      <td>139550.0</td>\n",
       "      <td>2000000.0</td>\n",
       "      <td>0.002</td>\n",
       "      <td>-1860450.0</td>\n",
       "      <td>-3126.806723</td>\n",
       "    </tr>\n",
       "    <tr>\n",
       "      <th>16</th>\n",
       "      <td>0.95</td>\n",
       "      <td>0.60</td>\n",
       "      <td>12.0</td>\n",
       "      <td>988.0</td>\n",
       "      <td>0.0</td>\n",
       "      <td>331250.0</td>\n",
       "      <td>0.0</td>\n",
       "      <td>0.000</td>\n",
       "      <td>331250.0</td>\n",
       "      <td>335.273279</td>\n",
       "    </tr>\n",
       "    <tr>\n",
       "      <th>17</th>\n",
       "      <td>0.95</td>\n",
       "      <td>0.65</td>\n",
       "      <td>0.0</td>\n",
       "      <td>1000.0</td>\n",
       "      <td>0.0</td>\n",
       "      <td>405450.0</td>\n",
       "      <td>0.0</td>\n",
       "      <td>0.000</td>\n",
       "      <td>405450.0</td>\n",
       "      <td>405.450000</td>\n",
       "    </tr>\n",
       "    <tr>\n",
       "      <th>18</th>\n",
       "      <td>0.99</td>\n",
       "      <td>0.52</td>\n",
       "      <td>808.0</td>\n",
       "      <td>187.0</td>\n",
       "      <td>5.0</td>\n",
       "      <td>50550.0</td>\n",
       "      <td>5000000.0</td>\n",
       "      <td>0.005</td>\n",
       "      <td>-4949450.0</td>\n",
       "      <td>-25778.385417</td>\n",
       "    </tr>\n",
       "    <tr>\n",
       "      <th>19</th>\n",
       "      <td>0.99</td>\n",
       "      <td>0.53</td>\n",
       "      <td>717.0</td>\n",
       "      <td>277.0</td>\n",
       "      <td>6.0</td>\n",
       "      <td>66350.0</td>\n",
       "      <td>6000000.0</td>\n",
       "      <td>0.006</td>\n",
       "      <td>-5933650.0</td>\n",
       "      <td>-20966.961131</td>\n",
       "    </tr>\n",
       "    <tr>\n",
       "      <th>20</th>\n",
       "      <td>0.99</td>\n",
       "      <td>0.54</td>\n",
       "      <td>566.0</td>\n",
       "      <td>433.0</td>\n",
       "      <td>1.0</td>\n",
       "      <td>107050.0</td>\n",
       "      <td>1000000.0</td>\n",
       "      <td>0.001</td>\n",
       "      <td>-892950.0</td>\n",
       "      <td>-2057.488479</td>\n",
       "    </tr>\n",
       "    <tr>\n",
       "      <th>21</th>\n",
       "      <td>0.99</td>\n",
       "      <td>0.55</td>\n",
       "      <td>421.0</td>\n",
       "      <td>579.0</td>\n",
       "      <td>0.0</td>\n",
       "      <td>143500.0</td>\n",
       "      <td>0.0</td>\n",
       "      <td>0.000</td>\n",
       "      <td>143500.0</td>\n",
       "      <td>247.841105</td>\n",
       "    </tr>\n",
       "    <tr>\n",
       "      <th>22</th>\n",
       "      <td>0.99</td>\n",
       "      <td>0.60</td>\n",
       "      <td>7.0</td>\n",
       "      <td>993.0</td>\n",
       "      <td>0.0</td>\n",
       "      <td>330950.0</td>\n",
       "      <td>0.0</td>\n",
       "      <td>0.000</td>\n",
       "      <td>330950.0</td>\n",
       "      <td>333.282981</td>\n",
       "    </tr>\n",
       "    <tr>\n",
       "      <th>23</th>\n",
       "      <td>0.99</td>\n",
       "      <td>0.65</td>\n",
       "      <td>0.0</td>\n",
       "      <td>1000.0</td>\n",
       "      <td>0.0</td>\n",
       "      <td>403050.0</td>\n",
       "      <td>0.0</td>\n",
       "      <td>0.000</td>\n",
       "      <td>403050.0</td>\n",
       "      <td>403.050000</td>\n",
       "    </tr>\n",
       "  </tbody>\n",
       "</table>\n",
       "</div>"
      ],
      "text/plain": [
       "    desired_certainty  true_prob_a  uncertain_results  correct_decisions  \\\n",
       "0                0.80         0.52              825.0              169.0   \n",
       "1                0.80         0.53              677.0              322.0   \n",
       "2                0.80         0.54              579.0              418.0   \n",
       "3                0.80         0.55              435.0              565.0   \n",
       "4                0.80         0.60                8.0              992.0   \n",
       "5                0.80         0.65                0.0             1000.0   \n",
       "6                0.90         0.52              829.0              166.0   \n",
       "7                0.90         0.53              693.0              307.0   \n",
       "8                0.90         0.54              593.0              403.0   \n",
       "9                0.90         0.55              414.0              585.0   \n",
       "10               0.90         0.60                5.0              995.0   \n",
       "11               0.90         0.65                0.0             1000.0   \n",
       "12               0.95         0.52              827.0              167.0   \n",
       "13               0.95         0.53              732.0              262.0   \n",
       "14               0.95         0.54              558.0              442.0   \n",
       "15               0.95         0.55              405.0              593.0   \n",
       "16               0.95         0.60               12.0              988.0   \n",
       "17               0.95         0.65                0.0             1000.0   \n",
       "18               0.99         0.52              808.0              187.0   \n",
       "19               0.99         0.53              717.0              277.0   \n",
       "20               0.99         0.54              566.0              433.0   \n",
       "21               0.99         0.55              421.0              579.0   \n",
       "22               0.99         0.60                7.0              993.0   \n",
       "23               0.99         0.65                0.0             1000.0   \n",
       "\n",
       "    wrong_decisions  saved_sampling  cost_wrong_decisions  mistake_prob  \\\n",
       "0               6.0         43750.0             6000000.0         0.006   \n",
       "1               1.0         74850.0             1000000.0         0.001   \n",
       "2               3.0         97550.0             3000000.0         0.003   \n",
       "3               0.0        132650.0                   0.0         0.000   \n",
       "4               0.0        334900.0                   0.0         0.000   \n",
       "5               0.0        405450.0                   0.0         0.000   \n",
       "6               5.0         43950.0             5000000.0         0.005   \n",
       "7               0.0         69600.0                   0.0         0.000   \n",
       "8               4.0        100150.0             4000000.0         0.004   \n",
       "9               1.0        136450.0             1000000.0         0.001   \n",
       "10              0.0        336850.0                   0.0         0.000   \n",
       "11              0.0        407050.0                   0.0         0.000   \n",
       "12              6.0         40000.0             6000000.0         0.006   \n",
       "13              6.0         63400.0             6000000.0         0.006   \n",
       "14              0.0        108550.0                   0.0         0.000   \n",
       "15              2.0        139550.0             2000000.0         0.002   \n",
       "16              0.0        331250.0                   0.0         0.000   \n",
       "17              0.0        405450.0                   0.0         0.000   \n",
       "18              5.0         50550.0             5000000.0         0.005   \n",
       "19              6.0         66350.0             6000000.0         0.006   \n",
       "20              1.0        107050.0             1000000.0         0.001   \n",
       "21              0.0        143500.0                   0.0         0.000   \n",
       "22              0.0        330950.0                   0.0         0.000   \n",
       "23              0.0        403050.0                   0.0         0.000   \n",
       "\n",
       "        total  save_per_exp  \n",
       "0  -5956250.0 -34035.714286  \n",
       "1   -925150.0  -2864.241486  \n",
       "2  -2902450.0  -6894.180523  \n",
       "3    132650.0    234.778761  \n",
       "4    334900.0    337.600806  \n",
       "5    405450.0    405.450000  \n",
       "6  -4956050.0 -28982.748538  \n",
       "7     69600.0    226.710098  \n",
       "8  -3899850.0  -9581.941032  \n",
       "9   -863550.0  -1473.634812  \n",
       "10   336850.0    338.542714  \n",
       "11   407050.0    407.050000  \n",
       "12 -5960000.0 -34450.867052  \n",
       "13 -5936600.0 -22151.492537  \n",
       "14   108550.0    245.588235  \n",
       "15 -1860450.0  -3126.806723  \n",
       "16   331250.0    335.273279  \n",
       "17   405450.0    405.450000  \n",
       "18 -4949450.0 -25778.385417  \n",
       "19 -5933650.0 -20966.961131  \n",
       "20  -892950.0  -2057.488479  \n",
       "21   143500.0    247.841105  \n",
       "22   330950.0    333.282981  \n",
       "23   403050.0    403.050000  "
      ]
     },
     "metadata": {},
     "output_type": "display_data"
    }
   ],
   "source": [
    "display(cost_outcome_df)"
   ]
  },
  {
   "cell_type": "markdown",
   "metadata": {},
   "source": [
    "What do the numbers tell us? Well, for example with a true difference of 0.55 and certainty level 0.99, we would expect almost 250 euros benefit per each test that was run. For 1000 tests, such a model broke early 993 times, was uncertain 7 times and made an incorrect inference 0 times!"
   ]
  },
  {
   "cell_type": "code",
   "execution_count": 379,
   "metadata": {},
   "outputs": [
    {
     "data": {
      "text/plain": [
       "<AxesSubplot:xlabel='true_prob_a', ylabel='desired_certainty'>"
      ]
     },
     "execution_count": 379,
     "metadata": {},
     "output_type": "execute_result"
    },
    {
     "data": {
      "image/png": "[encoded data removed]",
      "text/plain": [
       "<Figure size 800x400 with 2 Axes>"
      ]
     },
     "metadata": {
      "needs_background": "light"
     },
     "output_type": "display_data"
    }
   ],
   "source": [
    "sns.heatmap(cost_outcome_df.pivot(\"desired_certainty\",\"true_prob_a\",\"total\").\\\n",
    "            sort_values(\"desired_certainty\",ascending=False),\n",
    "            linewidths=0.5, cmap=\"PuOr\",center=0)"
   ]
  },
  {
   "cell_type": "markdown",
   "metadata": {},
   "source": [
    "This last figure plots average cost/saving per experiment according to true probability of A being better, for various certainty levels. What becomes clear is that the system saves costs when A is in prior probable to be better."
   ]
  },
  {
   "cell_type": "code",
   "execution_count": 380,
   "metadata": {},
   "outputs": [
    {
     "name": "stderr",
     "output_type": "stream",
     "text": [
      "/Users/tjpajala/anaconda3/envs/rethink/lib/python3.9/site-packages/pandas/core/indexing.py:1676: SettingWithCopyWarning: \n",
      "A value is trying to be set on a copy of a slice from a DataFrame.\n",
      "Try using .loc[row_indexer,col_indexer] = value instead\n",
      "\n",
      "See the caveats in the documentation: https://pandas.pydata.org/pandas-docs/stable/user_guide/indexing.html#returning-a-view-versus-a-copy\n",
      "  self._setitem_single_column(ilocs[0], value, pi)\n"
     ]
    },
    {
     "data": {
      "text/html": [
       "<div>\n",
       "<style scoped>\n",
       "    .dataframe tbody tr th:only-of-type {\n",
       "        vertical-align: middle;\n",
       "    }\n",
       "\n",
       "    .dataframe tbody tr th {\n",
       "        vertical-align: top;\n",
       "    }\n",
       "\n",
       "    .dataframe thead th {\n",
       "        text-align: right;\n",
       "    }\n",
       "</style>\n",
       "<table border=\"1\" class=\"dataframe\">\n",
       "  <thead>\n",
       "    <tr style=\"text-align: right;\">\n",
       "      <th></th>\n",
       "      <th>desired_certainty</th>\n",
       "      <th>true_prob_a</th>\n",
       "      <th>variable</th>\n",
       "      <th>value</th>\n",
       "    </tr>\n",
       "  </thead>\n",
       "  <tbody>\n",
       "    <tr>\n",
       "      <th>0</th>\n",
       "      <td>0.8</td>\n",
       "      <td>0.52</td>\n",
       "      <td>log_save_per_exp</td>\n",
       "      <td>-10.435166</td>\n",
       "    </tr>\n",
       "    <tr>\n",
       "      <th>1</th>\n",
       "      <td>0.8</td>\n",
       "      <td>0.53</td>\n",
       "      <td>log_save_per_exp</td>\n",
       "      <td>-7.960059</td>\n",
       "    </tr>\n",
       "    <tr>\n",
       "      <th>2</th>\n",
       "      <td>0.8</td>\n",
       "      <td>0.54</td>\n",
       "      <td>log_save_per_exp</td>\n",
       "      <td>-8.838433</td>\n",
       "    </tr>\n",
       "    <tr>\n",
       "      <th>3</th>\n",
       "      <td>0.8</td>\n",
       "      <td>0.55</td>\n",
       "      <td>log_save_per_exp</td>\n",
       "      <td>5.458644</td>\n",
       "    </tr>\n",
       "    <tr>\n",
       "      <th>4</th>\n",
       "      <td>0.8</td>\n",
       "      <td>0.60</td>\n",
       "      <td>log_save_per_exp</td>\n",
       "      <td>5.821864</td>\n",
       "    </tr>\n",
       "  </tbody>\n",
       "</table>\n",
       "</div>"
      ],
      "text/plain": [
       "   desired_certainty  true_prob_a          variable      value\n",
       "0                0.8         0.52  log_save_per_exp -10.435166\n",
       "1                0.8         0.53  log_save_per_exp  -7.960059\n",
       "2                0.8         0.54  log_save_per_exp  -8.838433\n",
       "3                0.8         0.55  log_save_per_exp   5.458644\n",
       "4                0.8         0.60  log_save_per_exp   5.821864"
      ]
     },
     "metadata": {},
     "output_type": "display_data"
    },
    {
     "data": {
      "text/plain": [
       "<matplotlib.lines.Line2D at 0x19f964580>"
      ]
     },
     "execution_count": 380,
     "metadata": {},
     "output_type": "execute_result"
    },
    {
     "data": {
      "image/png": "[encoded data removed]",
      "text/plain": [
       "<Figure size 1200x600 with 1 Axes>"
      ]
     },
     "metadata": {
      "needs_background": "light"
     },
     "output_type": "display_data"
    }
   ],
   "source": [
    "symlog_costs=cost_outcome_df[[\"desired_certainty\",\"true_prob_a\",\"total\",\"save_per_exp\"]]\n",
    "\n",
    "def f_symlog(x):\n",
    "    if -1 > x > 1:\n",
    "        return x\n",
    "    elif x>1:\n",
    "        return np.log(x)\n",
    "    elif x<-1:\n",
    "        return -np.log(-x)\n",
    "\n",
    "symlog_costs.loc[:,[\"log_total\"]] = symlog_costs.total.apply(f_symlog)\n",
    "symlog_costs.loc[:,[\"log_save_per_exp\"]] = symlog_costs.save_per_exp.apply(f_symlog)\n",
    "\n",
    "d = pd.melt(symlog_costs, id_vars=[\"desired_certainty\",\"true_prob_a\"],value_vars=\"log_save_per_exp\")\n",
    "display(d.head(5))\n",
    "rcParams['figure.figsize'] = 6,3\n",
    "palette = sns.color_palette(\"mako_r\", d.desired_certainty.nunique())\n",
    "g_results=sns.lineplot(data=d, x=\"true_prob_a\",y=\"value\",hue=\"desired_certainty\", palette=palette)\n",
    "#g_results.set(yscale='log')\n",
    "plt.axhline(0, linestyle=\"--\", color=\"blue\")\n",
    "#g_results.set(xticks=sample_count)\n",
    "#g_results.set(xticklabels=sample_count)"
   ]
  },
  {
   "cell_type": "markdown",
   "metadata": {},
   "source": [
    "Based on the cost and benefit analysis, using the bayesian model makes sense if the true probability is at least 55%. When the true probability is less, then the system makes mistakes in inference, resulting in big losses as per the assumed large cost of erroneous inference."
   ]
  },
  {
   "cell_type": "code",
   "execution_count": null,
   "metadata": {},
   "outputs": [],
   "source": []
  }
 ],
 "metadata": {
  "kernelspec": {
   "display_name": "PyCharm (numpyro_testing)",
   "language": "python",
   "name": "pycharm-4becd52e"
  },
  "language_info": {
   "codemirror_mode": {
    "name": "ipython",
    "version": 3
   },
   "file_extension": ".py",
   "mimetype": "text/x-python",
   "name": "python",
   "nbconvert_exporter": "python",
   "pygments_lexer": "ipython3",
   "version": "3.9.4"
  },
  "widgets": {
   "application/vnd.jupyter.widget-state+json": {
    "state": {},
    "version_major": 2,
    "version_minor": 0
   }
  }
 },
 "nbformat": 4,
 "nbformat_minor": 1
}
